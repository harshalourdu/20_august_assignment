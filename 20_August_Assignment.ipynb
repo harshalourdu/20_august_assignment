{
 "cells": [
  {
   "cell_type": "code",
   "execution_count": 14,
   "id": "b331ad32-b297-4fb3-a3d2-b0f799da7b8b",
   "metadata": {},
   "outputs": [
    {
     "name": "stdout",
     "output_type": "stream",
     "text": [
      "ahsraH\n"
     ]
    }
   ],
   "source": [
    "# 1. Write a program to reverse a string.\n",
    "\n",
    "text = \"Harsha\"[::-1]\n",
    "print(text)"
   ]
  },
  {
   "cell_type": "code",
   "execution_count": 15,
   "id": "743d7ef9-aabc-404c-8ae5-54ee5bf256b1",
   "metadata": {},
   "outputs": [
    {
     "name": "stdout",
     "output_type": "stream",
     "text": [
      "Yes\n"
     ]
    }
   ],
   "source": [
    "# 2. Check if a string is a palindrome.\n",
    "\n",
    "def isPalindrome(s):\n",
    "    return s == s[::-1]\n",
    " \n",
    "s = \"level\"\n",
    "ans = isPalindrome(s)\n",
    " \n",
    "if ans:\n",
    "    print(\"Yes\")\n",
    "else:\n",
    "    print(\"No\")"
   ]
  },
  {
   "cell_type": "code",
   "execution_count": 16,
   "id": "c6df7e4f-dbda-4975-9b6d-f54ffa74e281",
   "metadata": {},
   "outputs": [
    {
     "name": "stdout",
     "output_type": "stream",
     "text": [
      "PYTHON CODING\n"
     ]
    }
   ],
   "source": [
    "# 3. Convert a string to uppercase.\n",
    "\n",
    "message = 'python coding'\n",
    "print(message.upper())\n"
   ]
  },
  {
   "cell_type": "code",
   "execution_count": 17,
   "id": "60d28ab8-68ac-4c05-a42b-a1f7886f895e",
   "metadata": {},
   "outputs": [
    {
     "name": "stdout",
     "output_type": "stream",
     "text": [
      "python coding\n"
     ]
    }
   ],
   "source": [
    "# 4. Convert a string to lowercase.\n",
    "\n",
    "message = 'PYTHON CODING'\n",
    "print(message.lower())"
   ]
  },
  {
   "cell_type": "code",
   "execution_count": 18,
   "id": "1621a3b8-0104-49ff-992a-4c50b9f625ac",
   "metadata": {},
   "outputs": [
    {
     "name": "stdout",
     "output_type": "stream",
     "text": [
      "3\n"
     ]
    }
   ],
   "source": [
    "# 5. Count the number of vowels in a string.\n",
    "\n",
    "string = \"Harsha PW Skills\"\n",
    "vowels = \"aeiou\"\n",
    " \n",
    "count = sum(string.count(vowel) for vowel in vowels)\n",
    "print(count)"
   ]
  },
  {
   "cell_type": "code",
   "execution_count": 19,
   "id": "32e81fd6-8ef8-42fd-a925-eaaa0ca070c7",
   "metadata": {},
   "outputs": [
    {
     "name": "stdout",
     "output_type": "stream",
     "text": [
      "The Result is:-  pythn s gd lngg\n",
      "Total consonants are:-  15\n"
     ]
    }
   ],
   "source": [
    "# 6. Count the number of consonants in a string.\n",
    "\n",
    "string = \"python is good language\"\n",
    "vowels = 'aeiou'\n",
    "result = ''\n",
    "for i in string:\n",
    "    if i not in vowels:\n",
    "        result += i\n",
    "\n",
    "print(\"The Result is:- \", result)\n",
    "print(\"Total consonants are:- \", len(result))"
   ]
  },
  {
   "cell_type": "code",
   "execution_count": 28,
   "id": "6566f800-6593-4bee-99ca-e5634bc38859",
   "metadata": {},
   "outputs": [
    {
     "name": "stdout",
     "output_type": "stream",
     "text": [
      "harsha\n"
     ]
    }
   ],
   "source": [
    "# 7. Remove all whitespaces from a string.\n",
    "\n",
    "def remove(string):\n",
    "    return string.replace(\" \", \"\")\n",
    " \n",
    " \n",
    "# Driver Program\n",
    "string = ' h a r s h  a '\n",
    "print(remove(string))"
   ]
  },
  {
   "cell_type": "code",
   "execution_count": 29,
   "id": "792d24d9-284a-40f2-87ea-d21e82fb6b8d",
   "metadata": {},
   "outputs": [
    {
     "name": "stdout",
     "output_type": "stream",
     "text": [
      "6\n"
     ]
    }
   ],
   "source": [
    "# 8. Find the length of a string without using the `len()` function.\n",
    "\n",
    "string = 'harsha'\n",
    "count = 0\n",
    "for i in string: \n",
    "    count+=1\n",
    "print(count)"
   ]
  },
  {
   "cell_type": "code",
   "execution_count": 34,
   "id": "c5b6ec5c-b103-4cbd-bc26-01eef64ce7ec",
   "metadata": {},
   "outputs": [
    {
     "name": "stdout",
     "output_type": "stream",
     "text": [
      "The string contains 'good'\n"
     ]
    }
   ],
   "source": [
    "# 9. Check if a string contains a specific word.\n",
    "\n",
    "string = \"He is good person\"\n",
    "if \"good\" in string:\n",
    "    print(\"The string contains 'good'\")\n",
    "else:\n",
    "    print(\"The string does not contain 'good'\")"
   ]
  },
  {
   "cell_type": "code",
   "execution_count": 40,
   "id": "403ed701-9261-4486-94e2-70bb80f42c67",
   "metadata": {},
   "outputs": [
    {
     "name": "stdout",
     "output_type": "stream",
     "text": [
      "Great Morning\n"
     ]
    }
   ],
   "source": [
    "# 10. Replace a word in a string with another word.\n",
    "\n",
    "string = \"Good Morning\"\n",
    "new_string = string.replace(\"Good\", \"Great\")\n",
    "  \n",
    "print(new_string)"
   ]
  },
  {
   "cell_type": "code",
   "execution_count": 42,
   "id": "a5b80fb7-018f-4292-9261-bf3adea9bc5c",
   "metadata": {},
   "outputs": [
    {
     "name": "stdout",
     "output_type": "stream",
     "text": [
      "Count of a in Harsha is : 2\n"
     ]
    }
   ],
   "source": [
    "# 11. Count the occurrences of a word in a string.\n",
    "\n",
    "test_str = \"Harsha\"\n",
    "counter = test_str.count('a')\n",
    "print(\"Count of a in Harsha is : \"\n",
    "      + str(counter))"
   ]
  },
  {
   "cell_type": "code",
   "execution_count": 44,
   "id": "47b72d81-e689-4d1f-948a-d7d870bddcc8",
   "metadata": {},
   "outputs": [
    {
     "name": "stdout",
     "output_type": "stream",
     "text": [
      "7\n"
     ]
    }
   ],
   "source": [
    "# 12. Find the first occurrence of a word in a string.\n",
    "\n",
    "word = 'python is good coding'\n",
    "print(word.find('is'))"
   ]
  },
  {
   "cell_type": "code",
   "execution_count": 45,
   "id": "e027e07d-bb27-4215-8704-cbb6cd3717b8",
   "metadata": {},
   "outputs": [
    {
     "name": "stdout",
     "output_type": "stream",
     "text": [
      "13\n"
     ]
    }
   ],
   "source": [
    "# 13. Find the last occurrence of a word in a string.\n",
    "\n",
    "txt = \"Hello, welcome to my world.\"\n",
    "\n",
    "x = txt.rfind(\"e\")\n",
    "\n",
    "print(x)"
   ]
  },
  {
   "cell_type": "code",
   "execution_count": 47,
   "id": "1b6f9042-5a94-4fd8-9e37-afedebccce88",
   "metadata": {},
   "outputs": [
    {
     "name": "stdout",
     "output_type": "stream",
     "text": [
      "['pw', 'skills', 'is', 'good', 'acadamy']\n"
     ]
    }
   ],
   "source": [
    "# 14. Split a string into a list of words.\n",
    "\n",
    "txt = \"pw skills is good acadamy\"\n",
    "\n",
    "x = txt.split()\n",
    "\n",
    "print(x)"
   ]
  },
  {
   "cell_type": "code",
   "execution_count": 50,
   "id": "a6a1e62e-6156-4d51-8ef2-a3fd72b91fef",
   "metadata": {},
   "outputs": [
    {
     "name": "stdout",
     "output_type": "stream",
     "text": [
      "harsha\n"
     ]
    }
   ],
   "source": [
    "# 15. Join a list of words into a string.\n",
    "\n",
    "list1 = ['h', 'a', 'r', 's', 'h' , 'a']\n",
    "print(\"\".join(list1))"
   ]
  },
  {
   "cell_type": "code",
   "execution_count": 52,
   "id": "8e62f429-9595-4b49-95ab-9f9d3d5cd8c1",
   "metadata": {},
   "outputs": [
    {
     "name": "stdout",
     "output_type": "stream",
     "text": [
      "harsha_pwskills\n"
     ]
    }
   ],
   "source": [
    "# 16 Convert a string where words are separated by spaces to one where words\n",
    "#are separated by underscores.\n",
    "\n",
    "my_str = 'harsha pwskills'\n",
    "\n",
    "result = my_str.replace(' ', '_')\n",
    "\n",
    "print(result) "
   ]
  },
  {
   "cell_type": "code",
   "execution_count": 2,
   "id": "d219f643-4fd8-4956-acd4-12161b3ec2bc",
   "metadata": {},
   "outputs": [
    {
     "name": "stdout",
     "output_type": "stream",
     "text": [
      "True\n"
     ]
    }
   ],
   "source": [
    "# 17. Check if a string starts with a specific word or phrase.\n",
    "\n",
    "message = 'Python is fun'\n",
    "\n",
    "# check if the message starts with Python\n",
    "print(message.startswith('Python'))\n"
   ]
  },
  {
   "cell_type": "code",
   "execution_count": 8,
   "id": "949e30dc-b421-4628-952c-11570e1e289e",
   "metadata": {},
   "outputs": [
    {
     "name": "stdout",
     "output_type": "stream",
     "text": [
      "True\n"
     ]
    }
   ],
   "source": [
    "# 18. Check if a string ends with a specific word or phrase.\n",
    "\n",
    "message = 'Python is fun'\n",
    "\n",
    "# check if the message ends with fun\n",
    "print(message.endswith('fun'))"
   ]
  },
  {
   "cell_type": "code",
   "execution_count": 7,
   "id": "4cd9d102-ff46-4161-a8cb-8cda2b7684f6",
   "metadata": {},
   "outputs": [
    {
     "data": {
      "text/plain": [
       "'Hellow World'"
      ]
     },
     "execution_count": 7,
     "metadata": {},
     "output_type": "execute_result"
    }
   ],
   "source": [
    "# 19. Convert a string to title case (e.g., \"hello world\" to \"Hello World\").\n",
    "\n",
    "a = \"hellow world\"\n",
    "a.title()"
   ]
  },
  {
   "cell_type": "code",
   "execution_count": 23,
   "id": "bd2f51c4-3c43-47e1-8936-f612fe4a995e",
   "metadata": {},
   "outputs": [
    {
     "name": "stdin",
     "output_type": "stream",
     "text": [
      "Enter a String:  i love pw skills\n"
     ]
    },
    {
     "name": "stdout",
     "output_type": "stream",
     "text": [
      "Longest word:  skills\n",
      "Position of Longest word:  10\n"
     ]
    }
   ],
   "source": [
    "# 20. Find the longest word in a string.\n",
    "\n",
    "str = input(\"Enter a String: \")\n",
    "# Split the string to a list of words\n",
    "word_list = str.split()\n",
    "# Find the longest word\n",
    "longest_word = max(word_list, key = len)\n",
    "# Find the position (index) of longest word\n",
    "pos = str.index(longest_word)\n",
    "# Print the longest word and it's position\n",
    "print(\"Longest word: \",longest_word)\n",
    "print(\"Position of Longest word: \", pos)"
   ]
  },
  {
   "cell_type": "code",
   "execution_count": 26,
   "id": "b95b9153-57c5-4ca0-8e6e-04d6280e3c36",
   "metadata": {},
   "outputs": [
    {
     "name": "stdin",
     "output_type": "stream",
     "text": [
      "Enter a String:  i love pw skills\n"
     ]
    },
    {
     "name": "stdout",
     "output_type": "stream",
     "text": [
      "Shortest word:  i\n",
      "Position of shortest word:  0\n"
     ]
    }
   ],
   "source": [
    "# 21. Find the shortest word in a string.\n",
    "\n",
    "str = input(\"Enter a String: \")\n",
    "# Split the string to a list of words\n",
    "word_list = str.split()\n",
    "# Find the shortest word\n",
    "shortest_word = min(word_list, key = len)\n",
    "# Find the position (index) of shortest word\n",
    "pos = str.index(shortest_word)\n",
    "# Print the shortest word and it's position\n",
    "print(\"Shortest word: \",shortest_word)\n",
    "print(\"Position of shortest word: \", pos)"
   ]
  },
  {
   "cell_type": "code",
   "execution_count": 31,
   "id": "4740fe96-eaf8-48e1-a98a-f8d950491b8f",
   "metadata": {},
   "outputs": [
    {
     "data": {
      "text/plain": [
       "'slliks wp evol i'"
      ]
     },
     "execution_count": 31,
     "metadata": {},
     "output_type": "execute_result"
    }
   ],
   "source": [
    "# 22. Reverse the order of words in a string.\n",
    "\n",
    "str = \"i love pw skills\"\n",
    "str[: :-1]"
   ]
  },
  {
   "cell_type": "code",
   "execution_count": 5,
   "id": "30dc014d-a187-4a37-8911-e45345f67366",
   "metadata": {},
   "outputs": [
    {
     "data": {
      "text/plain": [
       "True"
      ]
     },
     "execution_count": 5,
     "metadata": {},
     "output_type": "execute_result"
    }
   ],
   "source": [
    "# 23. Check if a string is alphanumeric.\n",
    "# using isalnum() function\n",
    "\n",
    "str1 = \"python coding is good005\"\n",
    "str1.isalnum()\n",
    "\n",
    "str2 = \"python005\"\n",
    "str2.isalnum()"
   ]
  },
  {
   "cell_type": "code",
   "execution_count": 8,
   "id": "f0547804-2de2-47df-91ff-e86b72e4482e",
   "metadata": {},
   "outputs": [
    {
     "name": "stdout",
     "output_type": "stream",
     "text": [
      "The original string : There are 2 customers and 4 clients\n",
      "The numbers list is :[2, 4]\n"
     ]
    }
   ],
   "source": [
    "# 24. Extract all digits from a string.\n",
    "# using isdigit() function\n",
    "\n",
    "string1 = \"There are 2 customers and 4 clients\"\n",
    "print(\"The original string : \" + string1) \n",
    "res = [int(i) for i in string1.split() if i.isdigit()]\n",
    " \n",
    "print(\"The numbers list is :\" + str(res))"
   ]
  },
  {
   "cell_type": "code",
   "execution_count": 12,
   "id": "956cf2ec-51e1-47da-9bc0-d850e2497d3d",
   "metadata": {},
   "outputs": [
    {
     "name": "stdin",
     "output_type": "stream",
     "text": [
      "Enter a string2:  Harsha005\n"
     ]
    },
    {
     "name": "stdout",
     "output_type": "stream",
     "text": [
      "Haa\n"
     ]
    }
   ],
   "source": [
    "# 25. Extract all alphabets from a string.\n",
    "# using ord(char) function\n",
    "\n",
    "string2 = input(\"Enter a string2: \")\n",
    "only_alpha = \"\"\n",
    "for char in string2:\n",
    "    if ord(char) >= 65 and ord(char) <= 90:\n",
    "        only_alpha += char\n",
    "    elif ord(char) >= 97 and ord(char) <= 100:\n",
    "        only_alpha += char\n",
    "print(only_alpha)"
   ]
  },
  {
   "cell_type": "code",
   "execution_count": 27,
   "id": "4e45c2e0-1978-4953-a7d0-273888da0f43",
   "metadata": {},
   "outputs": [
    {
     "name": "stdout",
     "output_type": "stream",
     "text": [
      "The number of uppercase characters is: 9\n"
     ]
    }
   ],
   "source": [
    "# 26. Count the number of uppercase letters in a string.\n",
    "\n",
    "Str=\"MyNameIsHARSHA\"\n",
    "upper=0\n",
    "for i in Str:\n",
    "    if(i.isupper()):\n",
    "         upper+=1\n",
    "print(\"The number of uppercase characters is:\",upper)"
   ]
  },
  {
   "cell_type": "code",
   "execution_count": 26,
   "id": "62a5e3f1-d496-4cb4-937c-596512e6400f",
   "metadata": {},
   "outputs": [
    {
     "name": "stdout",
     "output_type": "stream",
     "text": [
      "The number of lowercase characters is: 5\n"
     ]
    }
   ],
   "source": [
    "# 27. Count the number of lowercase letters in a string.\n",
    "\n",
    "Str1=\"MyNameIsHARSHA\"\n",
    "lower=0\n",
    "for i in Str:\n",
    "    if(i.islower()):\n",
    "         lower+=1\n",
    "print(\"The number of lowercase characters is:\",lower)"
   ]
  },
  {
   "cell_type": "code",
   "execution_count": 28,
   "id": "587d9a20-9035-4fe0-8a30-7527c25c2f1b",
   "metadata": {},
   "outputs": [
    {
     "name": "stdout",
     "output_type": "stream",
     "text": [
      "mYNAMEIShARSHA\n",
      "MYNAMEISHARSHA\n",
      "mynameisharsha\n"
     ]
    }
   ],
   "source": [
    "# 28. Swap the case of each character in a string.\n",
    "\n",
    "string = \"MynameisHarsha\"\n",
    " \n",
    "print(string.swapcase())   \n",
    " \n",
    "string = \"mynameisharsha\"\n",
    "print(string.swapcase())  \n",
    " \n",
    "string = \"MYNAMEISHARSHA\"\n",
    "print(string.swapcase())"
   ]
  },
  {
   "cell_type": "code",
   "execution_count": 32,
   "id": "9aded9cf-1353-462f-bf6e-93ba774e2665",
   "metadata": {},
   "outputs": [
    {
     "name": "stdout",
     "output_type": "stream",
     "text": [
      "Enter the String: \n"
     ]
    },
    {
     "name": "stdin",
     "output_type": "stream",
     "text": [
      " Harsha joined to class\n"
     ]
    },
    {
     "name": "stdout",
     "output_type": "stream",
     "text": [
      "Enter a Word to Delete: \n"
     ]
    },
    {
     "name": "stdin",
     "output_type": "stream",
     "text": [
      " to\n"
     ]
    },
    {
     "name": "stdout",
     "output_type": "stream",
     "text": [
      "\n",
      "Harsha joined  class\n"
     ]
    }
   ],
   "source": [
    "# 29. Remove a specific word from a string.\n",
    "\n",
    "print(\"Enter the String: \")\n",
    "text = input()\n",
    "\n",
    "print(\"Enter a Word to Delete: \")\n",
    "word = input()\n",
    "\n",
    "text = text.replace(word, \"\")\n",
    "\n",
    "print()\n",
    "print(text)"
   ]
  },
  {
   "cell_type": "code",
   "execution_count": 35,
   "id": "6fcaaa2b-79bd-4815-8e52-5c40d920599e",
   "metadata": {},
   "outputs": [
    {
     "name": "stdout",
     "output_type": "stream",
     "text": [
      "Valid Email\n"
     ]
    }
   ],
   "source": [
    "# 30. Check if a string is a valid email address.\n",
    "\n",
    "import re\n",
    " \n",
    "# Make a regular expression\n",
    "# for validating an Email\n",
    "regex = r'\\b[A-Za-z0-9._%+-]+@[A-Za-z0-9.-]+\\.[A-Z|a-z]{2,7}\\b'\n",
    " \n",
    "# Define a function for\n",
    "# for validating an Email\n",
    "def check(email):\n",
    " \n",
    "    # pass the regular expression\n",
    "    # and the string into the fullmatch() method\n",
    "    if(re.fullmatch(regex, email)):\n",
    "        print(\"Valid Email\")\n",
    " \n",
    "    else:\n",
    "        print(\"Invalid Email\")\n",
    "\n",
    "if __name__ == '__main__':\n",
    " \n",
    "    # Enter the email\n",
    "    email = \"harsha123@xyz.com\"\n",
    "\n",
    "check(email)"
   ]
  },
  {
   "cell_type": "code",
   "execution_count": 43,
   "id": "f28d437c-8496-4d65-8ab4-df67352fc044",
   "metadata": {},
   "outputs": [
    {
     "name": "stdout",
     "output_type": "stream",
     "text": [
      "Original Email: harsha@xyz.com\n",
      "Extract the username from Email address:\n",
      "harsha\n"
     ]
    }
   ],
   "source": [
    "# 31. Extract the username from an email address string.\n",
    "\n",
    "def test(email_address):\n",
    "\tr = email_address.index(\"@\")\n",
    "\treturn \"\".join(l for l in email_address[:r] if l.isalpha())\n",
    "\n",
    "email_address = \"harsha@xyz.com\"\n",
    "print(\"Original Email:\", email_address)\n",
    "print(\"Extract the username from Email address:\")\n",
    "print(test(email_address))\n"
   ]
  },
  {
   "cell_type": "code",
   "execution_count": 44,
   "id": "c393247d-ff80-4d6e-9cd1-07a662d115a2",
   "metadata": {},
   "outputs": [
    {
     "name": "stdout",
     "output_type": "stream",
     "text": [
      "The original string is : harsha@pythonskills.com\n",
      "The extracted domain name : pythonskills.com\n"
     ]
    }
   ],
   "source": [
    "# 32. Extract the domain name from an email address string.\n",
    "\n",
    "test_str = 'harsha@pythonskills.com'\n",
    " \n",
    "# printing original string\n",
    "print(\"The original string is : \" + str(test_str))\n",
    " \n",
    "# slicing domain name using slicing \n",
    "res = test_str[test_str.index('@') + 1 : ]\n",
    " \n",
    "# printing result \n",
    "print(\"The extracted domain name : \" + str(res)) \n"
   ]
  },
  {
   "cell_type": "code",
   "execution_count": 50,
   "id": "a79f0428-8f13-4ce6-8c55-8cb5b6ada91d",
   "metadata": {},
   "outputs": [
    {
     "name": "stdout",
     "output_type": "stream",
     "text": [
      "'ha rsh a'\n"
     ]
    }
   ],
   "source": [
    "# 33. Replace multiple spaces in a string with a single space.\n",
    "\n",
    "my_str = 'ha  rsh   a'\n",
    "\n",
    "result = \" \".join(my_str.split())\n",
    "print(repr(result))"
   ]
  },
  {
   "cell_type": "code",
   "execution_count": 3,
   "id": "fa446f4b-9736-4cd3-a886-b82852c555ec",
   "metadata": {},
   "outputs": [
    {
     "name": "stdout",
     "output_type": "stream",
     "text": [
      "Urls:  ['https://www.google.com/']\n"
     ]
    }
   ],
   "source": [
    "# 34. Check if a string is a valid URL.\n",
    "\n",
    "def Find(string):\n",
    "    x=string.split()\n",
    "    res=[]\n",
    "    for i in x:\n",
    "        if i.startswith(\"https:\") or i.startswith(\"http:\"):\n",
    "            res.append(i)\n",
    "    return res\n",
    "\n",
    "string = 'My Profile: https://www.google.com/'\n",
    "print(\"Urls: \", Find(string))\n",
    "\n",
    "# input : https://www.google.com/"
   ]
  },
  {
   "cell_type": "code",
   "execution_count": 5,
   "id": "223fc3b3-03fa-4b19-a21f-cfe31dc09886",
   "metadata": {},
   "outputs": [
    {
     "name": "stdout",
     "output_type": "stream",
     "text": [
      "https://www.google.com/imghp?hl=en&tab=wi\n",
      "https://maps.google.co.in/maps?hl=en&tab=wl\n",
      "https://play.google.com/?hl=en&tab=w8\n",
      "https://www.youtube.com/?tab=w1\n",
      "https://news.google.com/?tab=wn\n",
      "https://mail.google.com/mail/?tab=wm\n",
      "https://drive.google.com/?tab=wo\n",
      "https://www.google.co.in/intl/en/about/products?tab=wh\n",
      "http://www.google.co.in/history/optout?hl=en\n",
      "/preferences?hl=en\n",
      "https://accounts.google.com/ServiceLogin?hl=en&passive=true&continue=https://www.google.com/&ec=GAZAAQ\n",
      "/advanced_search?hl=en-IN&authuser=0\n",
      "https://www.google.com/setprefs?sig=0_3SKOSglM5NtvpPx1l_wei_SajUo%3D&hl=hi&source=homepage&sa=X&ved=0ahUKEwj-xJbv1oKCAxXkS2wGHRrLA3QQ2ZgBCAU\n",
      "https://www.google.com/setprefs?sig=0_3SKOSglM5NtvpPx1l_wei_SajUo%3D&hl=bn&source=homepage&sa=X&ved=0ahUKEwj-xJbv1oKCAxXkS2wGHRrLA3QQ2ZgBCAY\n",
      "https://www.google.com/setprefs?sig=0_3SKOSglM5NtvpPx1l_wei_SajUo%3D&hl=te&source=homepage&sa=X&ved=0ahUKEwj-xJbv1oKCAxXkS2wGHRrLA3QQ2ZgBCAc\n",
      "https://www.google.com/setprefs?sig=0_3SKOSglM5NtvpPx1l_wei_SajUo%3D&hl=mr&source=homepage&sa=X&ved=0ahUKEwj-xJbv1oKCAxXkS2wGHRrLA3QQ2ZgBCAg\n",
      "https://www.google.com/setprefs?sig=0_3SKOSglM5NtvpPx1l_wei_SajUo%3D&hl=ta&source=homepage&sa=X&ved=0ahUKEwj-xJbv1oKCAxXkS2wGHRrLA3QQ2ZgBCAk\n",
      "https://www.google.com/setprefs?sig=0_3SKOSglM5NtvpPx1l_wei_SajUo%3D&hl=gu&source=homepage&sa=X&ved=0ahUKEwj-xJbv1oKCAxXkS2wGHRrLA3QQ2ZgBCAo\n",
      "https://www.google.com/setprefs?sig=0_3SKOSglM5NtvpPx1l_wei_SajUo%3D&hl=kn&source=homepage&sa=X&ved=0ahUKEwj-xJbv1oKCAxXkS2wGHRrLA3QQ2ZgBCAs\n",
      "https://www.google.com/setprefs?sig=0_3SKOSglM5NtvpPx1l_wei_SajUo%3D&hl=ml&source=homepage&sa=X&ved=0ahUKEwj-xJbv1oKCAxXkS2wGHRrLA3QQ2ZgBCAw\n",
      "https://www.google.com/setprefs?sig=0_3SKOSglM5NtvpPx1l_wei_SajUo%3D&hl=pa&source=homepage&sa=X&ved=0ahUKEwj-xJbv1oKCAxXkS2wGHRrLA3QQ2ZgBCA0\n",
      "/intl/en/ads/\n",
      "http://www.google.co.in/services/\n",
      "/intl/en/about.html\n",
      "https://www.google.com/setprefdomain?prefdom=IN&prev=https://www.google.co.in/&sig=K_ZrhtQtY2MdosK0VaETMpOGDIAoY%3D\n",
      "/intl/en/policies/privacy/\n",
      "/intl/en/policies/terms/\n"
     ]
    }
   ],
   "source": [
    "# 35. Extract the protocol (http or https) from a URL string.\n",
    "\n",
    "import requests\n",
    "from bs4 import BeautifulSoup\n",
    " \n",
    "url = 'https://www.google.com/'\n",
    "reqs = requests.get(url)\n",
    "soup = BeautifulSoup(reqs.text, 'html.parser')\n",
    " \n",
    "urls = []\n",
    "for link in soup.find_all('a'):\n",
    "    print(link.get('href'))"
   ]
  },
  {
   "cell_type": "code",
   "execution_count": 8,
   "id": "22efac87-d406-4e46-ad60-60cba6cb3dbc",
   "metadata": {},
   "outputs": [
    {
     "name": "stdout",
     "output_type": "stream",
     "text": [
      "Count of all characters in Harsha is :\n",
      " {'H': 1, 'a': 2, 'r': 1, 's': 1, 'h': 1}\n"
     ]
    }
   ],
   "source": [
    "# 36. Find the frequency of each character in a string.\n",
    "\n",
    "test_str = \"Harsha\"\n",
    " \n",
    "# using naive method to get count\n",
    "all_freq = {}\n",
    " \n",
    "for i in test_str:\n",
    "    if i in all_freq:\n",
    "        all_freq[i] += 1\n",
    "    else:\n",
    "        all_freq[i] = 1\n",
    "\n",
    "# printing result\n",
    "print(\"Count of all characters in Harsha is :\\n \"\n",
    "      + str(all_freq))\n"
   ]
  },
  {
   "cell_type": "code",
   "execution_count": 6,
   "id": "4262793c-cb76-49b5-9379-da0fe0787546",
   "metadata": {},
   "outputs": [
    {
     "name": "stdout",
     "output_type": "stream",
     "text": [
      "Wow PW SKILLS is Awsome\n"
     ]
    }
   ],
   "source": [
    "# 37. Remove all punctuation from a string.\n",
    "\n",
    "punctuations = '''!()-[]{};:'\"\\,<>./?@#$%^&*_~'''\n",
    "my_str = \"Wow!! PW SKILLS is Awsome....\"\n",
    "no_punct = \"\"\n",
    "for char in my_str:\n",
    "    if char not in punctuations:\n",
    "        no_punct = no_punct + char\n",
    "print(no_punct)       "
   ]
  },
  {
   "cell_type": "code",
   "execution_count": 11,
   "id": "4642ee4a-a832-449f-aea1-d298be2b7e1c",
   "metadata": {},
   "outputs": [
    {
     "name": "stdout",
     "output_type": "stream",
     "text": [
      "The string contains only digits!\n"
     ]
    }
   ],
   "source": [
    "# 38. Check if a string contains only digits.\n",
    "\n",
    "my_string = \"1234\"\n",
    "if my_string.isdigit():\n",
    "    print(\"The string contains only digits!\")\n",
    "else:\n",
    "    print(\"The string does not contain only digits.\")"
   ]
  },
  {
   "cell_type": "code",
   "execution_count": 14,
   "id": "9e3cfaca-6955-4b65-b8b5-58c5202e3dcb",
   "metadata": {},
   "outputs": [
    {
     "name": "stdout",
     "output_type": "stream",
     "text": [
      "True\n"
     ]
    }
   ],
   "source": [
    "# 39. Check if a string contains only alphabets.\n",
    "\n",
    "txt = \"pwskills\"\n",
    "x = txt.isalpha()\n",
    "print(x)"
   ]
  },
  {
   "cell_type": "code",
   "execution_count": 15,
   "id": "e7e62b3f-1279-4bf2-bc01-c15b55fd88cb",
   "metadata": {},
   "outputs": [
    {
     "name": "stdout",
     "output_type": "stream",
     "text": [
      "['p', 'w', 's', 'k', 'i', 'l', 'l', 's']\n"
     ]
    }
   ],
   "source": [
    "# 40. Convert a string to a list of characters.\n",
    "\n",
    "string = \"pwskills\"\n",
    "print([*string])"
   ]
  },
  {
   "cell_type": "code",
   "execution_count": 16,
   "id": "5726f2d5-2294-46e6-9cad-36b9e082640c",
   "metadata": {},
   "outputs": [
    {
     "name": "stdout",
     "output_type": "stream",
     "text": [
      "The strings are anagrams.\n"
     ]
    }
   ],
   "source": [
    "# 41. Check if two strings are anagrams.\n",
    "\n",
    "def check(s1, s2):\n",
    "    if(sorted(s1)== sorted(s2)):\n",
    "        print(\"The strings are anagrams.\") \n",
    "    else:\n",
    "        print(\"The strings aren't anagrams.\")\n",
    "s1 =\"listen\"\n",
    "s2 =\"silent\"\n",
    "check(s1, s2)"
   ]
  },
  {
   "cell_type": "code",
   "execution_count": 38,
   "id": "e3c092aa-ae0a-43ed-9728-5ae4dc5bae61",
   "metadata": {},
   "outputs": [
    {
     "name": "stdout",
     "output_type": "stream",
     "text": [
      "Encoded text: ehoor, zruog!\n"
     ]
    }
   ],
   "source": [
    "# 42. Encode a string using a Caesar cipher.\n",
    "\n",
    "def caesar_cipher(text, shift):\n",
    "  \"\"\"\n",
    "  Encodes a string using a Caesar cipher.\n",
    "\n",
    "  Args:\n",
    "    text: The string to encode.\n",
    "    shift: The number of positions to shift each letter.\n",
    "\n",
    "  Returns:\n",
    "    The encoded string.\n",
    "  \"\"\"\n",
    "\n",
    "  # Initialize an empty string to store the encoded text.\n",
    "  encoded_text = \"\"\n",
    "\n",
    "  # Iterate through each character in the input text.\n",
    "  for char in text:\n",
    "    # Check if the character is alphabetic.\n",
    "    if char.isalpha():\n",
    "      # Calculate the encoded character's Unicode code point value by shifting it by the specified amount.\n",
    "      # Ensure the value wraps around within the lowercase alphabet range (a-z).\n",
    "      encoded_char = chr((ord(char) + shift - ord('a')) % 26 + ord('a'))\n",
    "    else:\n",
    "      # Keep non-alphabetic characters unchanged.\n",
    "      encoded_char = char\n",
    "\n",
    "    # Add the encoded character to the encoded text.\n",
    "    encoded_text += encoded_char\n",
    "\n",
    "  # Return the resulting encoded text.\n",
    "  return encoded_text\n",
    "\n",
    "# Define the input text and the shift value for encoding.\n",
    "text = \"Hello, world!\"\n",
    "shift = 3\n",
    "\n",
    "# Call the caesar_cipher function to encode the text using the specified shift.\n",
    "encoded_text = caesar_cipher(text, shift)\n",
    "\n",
    "# Print the encoded text.\n",
    "print(\"Encoded text:\", encoded_text)"
   ]
  },
  {
   "cell_type": "code",
   "execution_count": 39,
   "id": "d2b6d151-6fa9-4551-8f2b-30b9fedc9916",
   "metadata": {},
   "outputs": [
    {
     "name": "stdout",
     "output_type": "stream",
     "text": [
      "Decoded text: ilmm, world!\n"
     ]
    }
   ],
   "source": [
    "# 43. Decode a Caesar cipher encoded string.\n",
    "\n",
    "def caesar_cipher_decoder(text, shift):\n",
    "    \"\"\"\n",
    "    Decodes a string using a Caesar cipher.\n",
    "\n",
    "    Args:\n",
    "        text: The string to decode.\n",
    "        shift: The number of positions to shift each letter.\n",
    "\n",
    "    Returns:\n",
    "        The decoded string.\n",
    "    \"\"\"\n",
    "\n",
    "    # Initialize an empty string to store the decoded text\n",
    "    decoded_text = \"\"\n",
    "\n",
    "    # Loop through each character in the input text\n",
    "    for char in text:\n",
    "        # Check if the character is an alphabetic character\n",
    "        if char.isalpha():\n",
    "            # Calculate the decoded character using the shift value\n",
    "            decoded_char = chr((ord(char) - shift - ord('a')) % 26 + ord('a'))\n",
    "        else:\n",
    "            # If the character is not alphabetic, keep it unchanged\n",
    "            decoded_char = char\n",
    "\n",
    "        # Add the decoded character to the decoded text\n",
    "        decoded_text += decoded_char\n",
    "\n",
    "    # Return the fully decoded text\n",
    "    return decoded_text\n",
    "\n",
    "# Example input\n",
    "text = \"lopp, zruog!\"\n",
    "shift = 3\n",
    "\n",
    "# Call the caesar_cipher_decoder function to decode the input text\n",
    "decoded_text = caesar_cipher_decoder(text, shift)\n",
    "\n",
    "# Print the decoded text\n",
    "print(\"Decoded text:\", decoded_text)"
   ]
  },
  {
   "cell_type": "code",
   "execution_count": 10,
   "id": "e0680c80-1a30-4e6c-a9f7-c66d5e363330",
   "metadata": {},
   "outputs": [
    {
     "name": "stdout",
     "output_type": "stream",
     "text": [
      "The original list is : ['pwskills is the best platfor to learn', 'pwskills has different various courses', 'pwskills is best']\n",
      "Word with maximum frequency : pwskills\n"
     ]
    }
   ],
   "source": [
    "# 44. Find the most frequent word in a string.\n",
    "# Using loop + max() + split() + defaultdict()\n",
    "\n",
    "from collections import defaultdict\n",
    "test_list = [\"pwskills is the best platfor to learn\", \"pwskills has different various courses\", \"pwskills is best\"]\n",
    "print(\"The original list is : \" + str(test_list))\n",
    "temp = defaultdict(int)\n",
    "for sub in test_list:\n",
    "    for wrd in sub.split():\n",
    "        temp[wrd] += 1\n",
    "res = max(temp, key=temp.get)\n",
    "print(\"Word with maximum frequency : \" + str(res))"
   ]
  },
  {
   "cell_type": "code",
   "execution_count": 11,
   "id": "bdc8b312-28f5-4a92-8f25-f4c4c602327b",
   "metadata": {},
   "outputs": [
    {
     "name": "stdout",
     "output_type": "stream",
     "text": [
      "{'one', 'two'}\n",
      "2\n"
     ]
    }
   ],
   "source": [
    "# 45. Find all unique words in a string.\n",
    "\n",
    "my_str = 'one one two two'\n",
    "unique_words = set(my_str.split())\n",
    "print(unique_words)\n",
    "length = len(unique_words)\n",
    "print(length)"
   ]
  },
  {
   "cell_type": "code",
   "execution_count": 39,
   "id": "e9c651e9-5eaf-498b-bf74-52ea1bb4670f",
   "metadata": {},
   "outputs": [
    {
     "name": "stdin",
     "output_type": "stream",
     "text": [
      "Enter the word: pw-skills\n"
     ]
    },
    {
     "name": "stdout",
     "output_type": "stream",
     "text": [
      "The number of syllables in the word is: \n",
      "1\n"
     ]
    }
   ],
   "source": [
    "# 46. Count the number of syllables in a string.\n",
    "\n",
    "word = input(\"Enter the word:\")\n",
    "syllable_count = 0\n",
    "for w in word:\n",
    "    if (\n",
    "        w == \"a\"\n",
    "        or w == \"e\"\n",
    "        or w == \"i\"\n",
    "        or w == \"o\"\n",
    "        or w == \"u\"\n",
    "        or w == \"A\"\n",
    "        or w == \"E\"\n",
    "        or w == \"I\"\n",
    "        or w == \"O\"\n",
    "        or w == \"U\"\n",
    "    ):\n",
    "        syllable_count = syllable_count + 1\n",
    "print(\"The number of syllables in the word is: \")\n",
    "print(syllable_count)"
   ]
  },
  {
   "cell_type": "code",
   "execution_count": 43,
   "id": "b171b212-27e6-4e97-8de3-62065fbe1279",
   "metadata": {},
   "outputs": [
    {
     "name": "stdout",
     "output_type": "stream",
     "text": [
      "String is not accepted.\n"
     ]
    }
   ],
   "source": [
    "# 47. Check if a string contains any special characters.\n",
    "\n",
    "import re\n",
    "def run(string):\n",
    "    regex = re.compile('[@_!#$%^&*()<>?/\\|}{~:]')\n",
    "    if(regex.search(string) == None):\n",
    "        print(\"String is accepted\")\n",
    "    else:\n",
    "        print(\"String is not accepted.\")\n",
    "if __name__ == '__main__' :\n",
    "    string = \"pwskills@005\"\n",
    "run(string)"
   ]
  },
  {
   "cell_type": "code",
   "execution_count": 46,
   "id": "50c97dab-b6c2-453c-91e7-6ebd01d054ea",
   "metadata": {},
   "outputs": [
    {
     "name": "stdout",
     "output_type": "stream",
     "text": [
      "The original string is : GFG is for Geeks\n",
      "The Nth word in String : for\n"
     ]
    }
   ],
   "source": [
    "# 48. Remove the nth word from a string.\n",
    "\n",
    "test_str = \"GFG is for Geeks\"\n",
    "print(\"The original string is : \" + test_str)\n",
    "N = 3\n",
    "count = 0\n",
    "res = \"\"\n",
    "for ele in test_str:\n",
    "    if ele == ' ':\n",
    "        count = count + 1\n",
    "        if count == N:\n",
    "            break\n",
    "        res = \"\"\n",
    "    else :\n",
    "        res = res + ele\n",
    "        \n",
    "print(\"The Nth word in String : \" + res)"
   ]
  },
  {
   "cell_type": "code",
   "execution_count": 51,
   "id": "96cf03cb-f078-40b8-9466-18277b57703e",
   "metadata": {},
   "outputs": [
    {
     "name": "stdout",
     "output_type": "stream",
     "text": [
      "pwmmskills \n"
     ]
    }
   ],
   "source": [
    "# 49. Insert a word at the nth position in a string.\n",
    "\n",
    "x = 'pwmskills'\n",
    "ch = 'm'\n",
    "i = 3\n",
    "\n",
    "output = x[:i] + ch + x[i:]\n",
    "\n",
    "print(output)"
   ]
  },
  {
   "cell_type": "code",
   "execution_count": 76,
   "id": "f4c6f0ed-e474-4838-b98a-60b13fca9501",
   "metadata": {},
   "outputs": [
    {
     "name": "stdout",
     "output_type": "stream",
     "text": [
      "The actual string: This is Python\n",
      "Converted to list of character list :\n",
      " [['T', 'h', 'i', 's'], ['i', 's'], ['P', 'y', 't', 'h', 'o', 'n']]\n"
     ]
    }
   ],
   "source": [
    "# 50. Convert a CSV string to a list of lists.\n",
    "\n",
    "string1=\"This is Python\"\n",
    " \n",
    "print(\"The actual string:\",string1)\n",
    " \n",
    "#converting string1 into a list of strings\n",
    "string1=string1.split()\n",
    " \n",
    "list1=list(map(list,string1))\n",
    " \n",
    "#printing the resultant list of lists\n",
    "print(\"Converted to list of character list :\\n\",list1)"
   ]
  },
  {
   "cell_type": "code",
   "execution_count": null,
   "id": "d57e4f86-6d8f-45d3-9b3a-2a0a6b8f8667",
   "metadata": {},
   "outputs": [],
   "source": []
  },
  {
   "cell_type": "code",
   "execution_count": 77,
   "id": "a745a901-eaf6-4d02-9d9f-4ebb58529db6",
   "metadata": {},
   "outputs": [],
   "source": [
    "# List Based Practice Problem"
   ]
  },
  {
   "cell_type": "code",
   "execution_count": 79,
   "id": "96cddaff-6425-4904-be3f-a2c73a3ed74a",
   "metadata": {},
   "outputs": [
    {
     "name": "stdout",
     "output_type": "stream",
     "text": [
      "[1, 2, 3, 4, 5, 6, 7, 8, 9, 10]\n"
     ]
    }
   ],
   "source": [
    "# 1. Create a list with integers from 1 to 10.\n",
    "\n",
    "n = 10\n",
    "output = []\n",
    "for i in range(1, n+1):\n",
    "    output.append(i)\n",
    "\n",
    "print(output)"
   ]
  },
  {
   "cell_type": "code",
   "execution_count": 83,
   "id": "7d394f88-a73a-4a6f-be11-1666006c4fe3",
   "metadata": {},
   "outputs": [
    {
     "name": "stdout",
     "output_type": "stream",
     "text": [
      "4\n"
     ]
    }
   ],
   "source": [
    "# 2. Find the length of a list without using the `len()` function.\n",
    "# using len() method\n",
    "\n",
    "inp_lst = ['Python', 'Java', 'Ruby', 'JavaScript']\n",
    "size = len(inp_lst)\n",
    "print(size)"
   ]
  },
  {
   "cell_type": "code",
   "execution_count": 85,
   "id": "72661114-439e-487c-a4c5-2cb1c2632b16",
   "metadata": {},
   "outputs": [
    {
     "name": "stdout",
     "output_type": "stream",
     "text": [
      "Current Fruits List ['Apple', 'Banana']\n"
     ]
    },
    {
     "name": "stdin",
     "output_type": "stream",
     "text": [
      "Please enter a fruit name:\n",
      " pine apple\n"
     ]
    },
    {
     "name": "stdout",
     "output_type": "stream",
     "text": [
      "Updated Fruits List ['Apple', 'Banana', 'pine apple']\n"
     ]
    }
   ],
   "source": [
    "# 3. Append an element to the end of a list.\n",
    "\n",
    "fruit_list = [\"Apple\", \"Banana\"]\n",
    "\n",
    "print(f'Current Fruits List {fruit_list}')\n",
    "\n",
    "new_fruit = input(\"Please enter a fruit name:\\n\")\n",
    "\n",
    "fruit_list.append(new_fruit)\n",
    "\n",
    "print(f'Updated Fruits List {fruit_list}')"
   ]
  },
  {
   "cell_type": "code",
   "execution_count": 86,
   "id": "3eb5d2fa-3895-4aa5-9213-8035a5537817",
   "metadata": {},
   "outputs": [
    {
     "name": "stdout",
     "output_type": "stream",
     "text": [
      "List = ['Hello', 'TutorialsPoint', 20, 'python', 'code']\n",
      "The list after inserting the given list item at the specified index:\n",
      "List =  ['Hello', 'TutorialsPoint', 'sample', 20, 'python', 'code']\n"
     ]
    }
   ],
   "source": [
    "# 4. Insert an element at a specific index in a list.\n",
    "\n",
    "lst = [\"Hello\", \"TutorialsPoint\", 20, \"python\", \"code\"]\n",
    "print(\"List =\",lst)\n",
    "\n",
    "insertItem = \"sample\"\n",
    "\n",
    "# giving the index value at which the item to be inserted\n",
    "indexValue = 2\n",
    "\n",
    "# inserting the given list item at the specified index(here 2)\n",
    "lst.insert(indexValue, insertItem)\n",
    "\n",
    "print(\"The list after inserting the given list item at the specified index:\")\n",
    "print(\"List = \",lst)"
   ]
  },
  {
   "cell_type": "code",
   "execution_count": 87,
   "id": "21cb3600-6791-4e79-bce9-f99418f2d548",
   "metadata": {},
   "outputs": [
    {
     "name": "stdout",
     "output_type": "stream",
     "text": [
      "Original List is : ['Iris', 'Orchids', 'Rose', 'Lavender', 'Lily', 'Carnations']\n",
      "After deleting the item : ['Iris', 'Rose', 'Lavender', 'Lily', 'Carnations']\n"
     ]
    }
   ],
   "source": [
    "# 5. Remove an element from a list by its value.\n",
    "\n",
    "lst = ['Iris', 'Orchids', 'Rose', 'Lavender',\n",
    "    'Lily', 'Carnations']\n",
    "print(\"Original List is :\", lst)\n",
    " \n",
    "# using remove()\n",
    "lst.remove('Orchids')\n",
    "print(\"After deleting the item :\", lst)"
   ]
  },
  {
   "cell_type": "code",
   "execution_count": 89,
   "id": "5d0dd83d-fe49-4414-8ab1-9411bfbfd000",
   "metadata": {},
   "outputs": [
    {
     "name": "stdout",
     "output_type": "stream",
     "text": [
      "List after deleting specified list item: ['Welcome', 'to', 'tutorialspoint']\n"
     ]
    }
   ],
   "source": [
    "# 6. Remove an element from a list by its index.\n",
    "\n",
    "inputList = [\"Welcome\", \"to\", \"tutorialspoint\", \"python\"]\n",
    "givenIndex = 3\n",
    "# deleting the list item at the given index using the del keyword\n",
    "del inputList[givenIndex]\n",
    "\n",
    "print(\"List after deleting specified list item:\", inputList)"
   ]
  },
  {
   "cell_type": "code",
   "execution_count": 90,
   "id": "67adc39e-52c9-4681-8cc0-f23aa49ab757",
   "metadata": {},
   "outputs": [
    {
     "name": "stdout",
     "output_type": "stream",
     "text": [
      "not exist\n"
     ]
    }
   ],
   "source": [
    "# 7. Check if an element exists in a list.\n",
    "\n",
    "lst=[ 1, 6, 3, 5, 3, 4 ] \n",
    "#checking if element 7 is present\n",
    "# in the given list or not\n",
    "i=7\n",
    "# if element present then return\n",
    "# exist otherwise not exist\n",
    "if i in lst: \n",
    "    print(\"exist\") \n",
    "else: \n",
    "    print(\"not exist\")"
   ]
  },
  {
   "cell_type": "code",
   "execution_count": 91,
   "id": "c31ce810-c9d4-4517-846e-340b7f653b32",
   "metadata": {},
   "outputs": [
    {
     "name": "stdout",
     "output_type": "stream",
     "text": [
      "1\n"
     ]
    }
   ],
   "source": [
    "# 8. Find the index of the first occurrence of an element in a list.\n",
    "\n",
    "list2 = ['cat', 'bat', 'mat', 'cat', 'pet'] \n",
    "  \n",
    "# Will print the index of 'bat' in list2 \n",
    "print(list2.index('bat'))"
   ]
  },
  {
   "cell_type": "code",
   "execution_count": 94,
   "id": "ec9b4f78-7156-41e9-99a3-da309a1ff554",
   "metadata": {},
   "outputs": [
    {
     "name": "stdout",
     "output_type": "stream",
     "text": [
      "8 has occurred 5 times\n"
     ]
    }
   ],
   "source": [
    "# 9. Count the occurrences of an element in a list.\n",
    "\n",
    "def countX(lst, x):\n",
    "    count = 0\n",
    "    for ele in lst:\n",
    "        if (ele == x):\n",
    "            count = count + 1\n",
    "    return count\n",
    "lst = [8, 6, 8, 10, 8, 20, 10, 8, 8]\n",
    "x = 8\n",
    "print('{} has occurred {} times'.format(x,countX(lst, x)))\n",
    "                                        "
   ]
  },
  {
   "cell_type": "code",
   "execution_count": 96,
   "id": "1a08a20e-363e-45a0-b6da-e99eed59e624",
   "metadata": {},
   "outputs": [
    {
     "name": "stdout",
     "output_type": "stream",
     "text": [
      "[15, 14, 13, 12, 11, 10]\n"
     ]
    }
   ],
   "source": [
    "# 10. Reverse the order of elements in a list.\n",
    "\n",
    "def Reverse(lst):\n",
    "    new_lst = lst[::-1]\n",
    "    return new_lst\n",
    " \n",
    "lst = [10, 11, 12, 13, 14, 15]\n",
    "print(Reverse(lst))"
   ]
  },
  {
   "cell_type": "code",
   "execution_count": 97,
   "id": "69306550-9035-4393-99fc-ba23721abd23",
   "metadata": {},
   "outputs": [
    {
     "name": "stdout",
     "output_type": "stream",
     "text": [
      "[2, 3, 5, 7, 11]\n"
     ]
    }
   ],
   "source": [
    "# 11. Sort a list in ascending order.\n",
    "\n",
    "prime_numbers = [11, 3, 7, 5, 2]\n",
    "\n",
    "# sorting the list in ascending order\n",
    "prime_numbers.sort()\n",
    "\n",
    "print(prime_numbers)\n"
   ]
  },
  {
   "cell_type": "code",
   "execution_count": 98,
   "id": "6f499200-951b-449f-9a80-cc41c23231f5",
   "metadata": {},
   "outputs": [
    {
     "name": "stdout",
     "output_type": "stream",
     "text": [
      "Sorted list (in Descending): ['u', 'o', 'i', 'e', 'a']\n"
     ]
    }
   ],
   "source": [
    "# 12. Sort a list in descending order.\n",
    "\n",
    "# vowels list\n",
    "vowels = ['e', 'a', 'u', 'o', 'i']\n",
    "\n",
    "# sort the vowels\n",
    "vowels.sort(reverse=True)\n",
    "\n",
    "# print vowels\n",
    "print('Sorted list (in Descending):', vowels)"
   ]
  },
  {
   "cell_type": "code",
   "execution_count": 105,
   "id": "837f0b8a-76c3-4014-a9e4-87d3da754b5e",
   "metadata": {},
   "outputs": [
    {
     "name": "stdout",
     "output_type": "stream",
     "text": [
      "10 4 66 "
     ]
    }
   ],
   "source": [
    "# 13. Create a list of even numbers from 1 to 20.\n",
    "\n",
    "# list of numbers\n",
    "list1 = [10, 21, 4, 45, 66, 93]\n",
    " \n",
    "\n",
    "for num in list1:\n",
    " \n",
    "    # checking condition\n",
    "    if num % 2 == 0:\n",
    "        print(num, end=\" \")"
   ]
  },
  {
   "cell_type": "code",
   "execution_count": 106,
   "id": "09e60605-b36f-4682-8e08-acba95e4ffd1",
   "metadata": {},
   "outputs": [
    {
     "name": "stdout",
     "output_type": "stream",
     "text": [
      "21 45 93 "
     ]
    }
   ],
   "source": [
    "# 14. Create a list of odd numbers from 1 to 20.\n",
    "\n",
    "# list of numbers\n",
    "list1 = [10, 21, 4, 45, 66, 93]\n",
    " \n",
    "\n",
    "for num in list1:\n",
    " \n",
    "    # checking condition\n",
    "    if num % 2 != 0:\n",
    "        print(num, end=\" \")"
   ]
  },
  {
   "cell_type": "code",
   "execution_count": 107,
   "id": "608789d5-3722-4c58-9d49-2ae0916c77c3",
   "metadata": {},
   "outputs": [
    {
     "name": "stdout",
     "output_type": "stream",
     "text": [
      "15\n"
     ]
    }
   ],
   "source": [
    "# 15. Find the sum of all elements in a list.\n",
    "\n",
    "list = [1,2,3,4,5]\n",
    "print(sum(list))"
   ]
  },
  {
   "cell_type": "code",
   "execution_count": 110,
   "id": "80249ff3-1ef4-432b-a3f5-7c2d17f06e63",
   "metadata": {},
   "outputs": [
    {
     "name": "stdout",
     "output_type": "stream",
     "text": [
      "8\n"
     ]
    }
   ],
   "source": [
    "# 16. Find the maximum value in a list.\n",
    "\n",
    "list1 = [4, -4, 8, -9, 1]\n",
    " \n",
    "\n",
    "# using Python list max() function.\n",
    "maxValue = max(list1)\n",
    " \n",
    "# Printing value stored in maxValue.\n",
    "print(maxValue)"
   ]
  },
  {
   "cell_type": "code",
   "execution_count": 111,
   "id": "8813309d-0e98-449a-a62a-605e67ce7124",
   "metadata": {},
   "outputs": [
    {
     "name": "stdout",
     "output_type": "stream",
     "text": [
      "-9\n"
     ]
    }
   ],
   "source": [
    "# 17. Find the minimum value in a list.\n",
    "\n",
    "list1 = [4, -4, 8, -9, 1]\n",
    " \n",
    "\n",
    "# using Python list max() function.\n",
    "minValue = min(list1)\n",
    " \n",
    "# Printing value stored in maxValue.\n",
    "print(minValue)"
   ]
  },
  {
   "cell_type": "code",
   "execution_count": 112,
   "id": "c549656d-22a2-4f55-a8d2-395f8de14774",
   "metadata": {},
   "outputs": [
    {
     "name": "stdout",
     "output_type": "stream",
     "text": [
      "[1, 4, 9, 16, 25, 36, 49, 64, 81, 100]\n"
     ]
    }
   ],
   "source": [
    "# 18. Create a list of squares of numbers from 1 to 10.\n",
    "\n",
    "squares = [x**2 for x in range(1, 11)]\n",
    "print(squares)"
   ]
  },
  {
   "cell_type": "code",
   "execution_count": 113,
   "id": "6b4cc4c4-a4e3-4a1d-b708-e05b8c3323f7",
   "metadata": {},
   "outputs": [
    {
     "name": "stdout",
     "output_type": "stream",
     "text": [
      "[6, 4, 8, 9, 3, 3, 6, 4, 6, 7]\n"
     ]
    }
   ],
   "source": [
    "# 19. Create a list of random numbers.\n",
    "\n",
    "import random\n",
    " \n",
    "rand_list=[]\n",
    "n=10\n",
    "for i in range(n):\n",
    "    rand_list.append(random.randint(3,9))\n",
    "print(rand_list)"
   ]
  },
  {
   "cell_type": "code",
   "execution_count": 117,
   "id": "54430d70-30eb-466c-99ce-4a8ab79ed0fa",
   "metadata": {},
   "outputs": [
    {
     "name": "stdout",
     "output_type": "stream",
     "text": [
      "Updated List after removing duplicates = [1, 2, 3, 4]\n"
     ]
    }
   ],
   "source": [
    "# 20. Remove duplicates from a list.\n",
    "\n",
    "ints_list = [1, 2, 3, 4, 3, 2]\n",
    "\n",
    "temp = []\n",
    "\n",
    "for x in ints_list:\n",
    "    if x not in temp:\n",
    "        temp.append(x)\n",
    "\n",
    "ints_list = temp\n",
    "\n",
    "print(f'Updated List after removing duplicates = {temp}')"
   ]
  },
  {
   "cell_type": "code",
   "execution_count": 118,
   "id": "0884bae1-a23f-499a-8464-832643d5f626",
   "metadata": {},
   "outputs": [
    {
     "name": "stdout",
     "output_type": "stream",
     "text": [
      "{5}\n",
      "No common elements\n"
     ]
    }
   ],
   "source": [
    "# 21. Find the common elements between two lists.\n",
    "\n",
    "def common_member(a, b):\n",
    "    a_set = set(a)\n",
    "    b_set = set(b)\n",
    " \n",
    "    if (a_set & b_set):\n",
    "        print(a_set & b_set)\n",
    "    else:\n",
    "        print(\"No common elements\") \n",
    "          \n",
    "a = [1, 2, 3, 4, 5]\n",
    "b = [5, 6, 7, 8, 9]\n",
    "common_member(a, b)\n",
    "  \n",
    "a = [1, 2, 3, 4, 5]\n",
    "b = [6, 7, 8, 9]\n",
    "common_member(a, b)"
   ]
  },
  {
   "cell_type": "code",
   "execution_count": 119,
   "id": "f7ec8631-b573-4ccd-ae5c-c01f85d1f6cb",
   "metadata": {},
   "outputs": [
    {
     "name": "stdout",
     "output_type": "stream",
     "text": [
      "[10, 15, 20, 30]\n"
     ]
    }
   ],
   "source": [
    "# 22. Find the difference between two lists.\n",
    "\n",
    "li1 = [10, 15, 20, 25, 30, 35, 40]\n",
    "li2 = [25, 40, 35]\n",
    " \n",
    "temp3 = []\n",
    "for element in li1:\n",
    "    if element not in li2:\n",
    "        temp3.append(element)\n",
    "print(temp3)"
   ]
  },
  {
   "cell_type": "code",
   "execution_count": 120,
   "id": "b5cdc606-e085-490d-b04a-aaf46c633510",
   "metadata": {},
   "outputs": [
    {
     "name": "stdout",
     "output_type": "stream",
     "text": [
      "Concatenated list using naive method : [1, 4, 5, 6, 5, 3, 5, 7, 2, 5]\n"
     ]
    }
   ],
   "source": [
    "# 23. Merge two lists.\n",
    "test_list1 = [1, 4, 5, 6, 5]\n",
    "test_list2 = [3, 5, 7, 2, 5]\n",
    " \n",
    "# using naive method to concat\n",
    "for i in test_list2 :\n",
    "    test_list1.append(i)\n",
    "print (\"Concatenated list using naive method : \"\n",
    "                            + str(test_list1))"
   ]
  },
  {
   "cell_type": "code",
   "execution_count": 121,
   "id": "b2e1d644-1462-4a12-932d-60a4142bbada",
   "metadata": {},
   "outputs": [
    {
     "name": "stdout",
     "output_type": "stream",
     "text": [
      "6\n",
      "24\n"
     ]
    }
   ],
   "source": [
    "# 24. Multiply all elements in a list by 2.\n",
    "\n",
    "def multiplyList(myList):\n",
    " \n",
    "    # Multiply elements one by one\n",
    "    result = 1\n",
    "    for x in myList:\n",
    "        result = result * x\n",
    "    return result\n",
    " \n",
    "list1 = [1, 2, 3]\n",
    "list2 = [3, 2, 4]\n",
    "print(multiplyList(list1))\n",
    "print(multiplyList(list2))"
   ]
  },
  {
   "cell_type": "code",
   "execution_count": 122,
   "id": "a1404da2-3ada-4a49-94db-3c9e906dbfec",
   "metadata": {},
   "outputs": [
    {
     "name": "stdout",
     "output_type": "stream",
     "text": [
      "[2, 4]\n"
     ]
    }
   ],
   "source": [
    "# 25. Filter out all even numbers from a list.\n",
    "\n",
    "lis = [1, 2, 3, 4, 5]\n",
    " \n",
    "# Output list initialisation\n",
    "out = []\n",
    " \n",
    "for num in lis:\n",
    " \n",
    "    # checking condition\n",
    "    if num % 2 == 0:\n",
    "        out.append(num)\n",
    " \n",
    " \n",
    "# printing output\n",
    "print(out)"
   ]
  },
  {
   "cell_type": "code",
   "execution_count": 1,
   "id": "3d761cb2-7433-4a54-8ede-5ba74145e626",
   "metadata": {},
   "outputs": [
    {
     "name": "stdout",
     "output_type": "stream",
     "text": [
      "Modified list is:  [1, -4, 3, -6, 7]\n"
     ]
    }
   ],
   "source": [
    "# 26. Convert a list of strings to a list of integers.\n",
    "\n",
    "lis = ['1', '-4', '3', '-6', '7']\n",
    "res = [eval(i) for i in lis]\n",
    "print(\"Modified list is: \", res)"
   ]
  },
  {
   "cell_type": "code",
   "execution_count": 2,
   "id": "9d83221d-9a0f-44f1-a944-4ed077ee90b7",
   "metadata": {},
   "outputs": [
    {
     "name": "stdout",
     "output_type": "stream",
     "text": [
      "['1', '12', '15', '21', '131']\n"
     ]
    }
   ],
   "source": [
    "# 27. Convert a list of integers to a list of strings.\n",
    "\n",
    "list_int = [1, 12, 15, 21, 131]\n",
    "   \n",
    "# mapping \n",
    "list_string = map(str, list_int) \n",
    "   \n",
    "# Printing sorted list of integers \n",
    "print(list(list_string))"
   ]
  },
  {
   "cell_type": "code",
   "execution_count": 3,
   "id": "c2a12396-602d-4285-bede-d8ca017f8a6a",
   "metadata": {},
   "outputs": [
    {
     "name": "stdout",
     "output_type": "stream",
     "text": [
      "[1, 2, 3, 4, 5, 6, 7]\n"
     ]
    }
   ],
   "source": [
    "# 28. Flatten a nested list.\n",
    "\n",
    "my_list = [[1], [2, 3], [4, 5, 6, 7]]\n",
    "\n",
    "flat_list = [num for sublist in my_list for num in sublist]\n",
    "print(flat_list)"
   ]
  },
  {
   "cell_type": "code",
   "execution_count": 4,
   "id": "5172793b-2815-4558-89a5-18bc7ebd73ab",
   "metadata": {},
   "outputs": [
    {
     "name": "stdout",
     "output_type": "stream",
     "text": [
      "1 2 3 5 8 13 21 34 55 89 \n"
     ]
    }
   ],
   "source": [
    "# 29. Create a list of the first 10 Fibonacci numbers.\n",
    "\n",
    "n = 10\n",
    "num1 = 0\n",
    "num2 = 1\n",
    "next_number = num2  \n",
    "count = 1\n",
    " \n",
    "while count <= n:\n",
    "    print(next_number, end=\" \")\n",
    "    count += 1\n",
    "    num1, num2 = num2, next_number\n",
    "    next_number = num1 + num2\n",
    "print()"
   ]
  },
  {
   "cell_type": "code",
   "execution_count": 5,
   "id": "240dc82d-729a-4caa-93ea-7ceef70aaeab",
   "metadata": {},
   "outputs": [
    {
     "name": "stdout",
     "output_type": "stream",
     "text": [
      "['a', 'b', 'c', 'd', 'e', 'f', 'g', 'h']\n"
     ]
    }
   ],
   "source": [
    "# 30. Check if a list is sorted.\n",
    "\n",
    "a = (\"b\", \"g\", \"a\", \"d\", \"f\", \"c\", \"h\", \"e\")\n",
    "x = sorted(a)\n",
    "print(x)\n"
   ]
  },
  {
   "cell_type": "code",
   "execution_count": 4,
   "id": "c7772e85-629d-4634-9b7b-bd3680a2c1f4",
   "metadata": {},
   "outputs": [
    {
     "name": "stdin",
     "output_type": "stream",
     "text": [
      "Enter Position to Left Rotate List Items =  6\n"
     ]
    },
    {
     "name": "stdout",
     "output_type": "stream",
     "text": [
      "Original List Items Before Left Rotating\n",
      "[11, 22, 33, 44, 55, 66, 77, 88]\n",
      "Final List Items After Left Rotating\n",
      "[77, 88, 11, 22, 33, 44, 55, 66]\n"
     ]
    }
   ],
   "source": [
    "# 31. Rotate a list to the left by `n` positions.\n",
    "\n",
    "ltList = [11, 22, 33, 44, 55, 66, 77, 88]\n",
    "\n",
    "ltRotate = int(input(\"Enter Position to Left Rotate List Items = \"))\n",
    "\n",
    "print('Original List Items Before Left Rotating')\n",
    "print(ltList)\n",
    "\n",
    "for i in range(ltRotate):\n",
    "    firstValue = ltList[0]\n",
    "    for j in range(len(ltList) - 1):\n",
    "        ltList[j] = ltList[j + 1]\n",
    "    ltList[len(ltList) - 1] = firstValue\n",
    "\n",
    "print('Final List Items After Left Rotating')\n",
    "print(ltList)"
   ]
  },
  {
   "cell_type": "code",
   "execution_count": 5,
   "id": "23080f9e-abe7-4d44-9518-1bf11d725054",
   "metadata": {},
   "outputs": [
    {
     "name": "stdin",
     "output_type": "stream",
     "text": [
      "Enter Position to Rotate List Items =  6\n"
     ]
    },
    {
     "name": "stdout",
     "output_type": "stream",
     "text": [
      "Original List Items Before Right Rotating\n",
      "[10, 20, 30, 40, 50, 60, 70]\n",
      "\n",
      "Final List Items After Right Rotating\n",
      "[20, 30, 40, 50, 60, 70, 10]\n"
     ]
    }
   ],
   "source": [
    "# 32. Rotate a list to the right by `n` positions.\n",
    "\n",
    "rtList = [10, 20, 30, 40, 50, 60, 70]\n",
    "\n",
    "rtRotate = int(input(\"Enter Position to Rotate List Items = \"))\n",
    "\n",
    "print('Original List Items Before Right Rotating')\n",
    "print(rtList)\n",
    "\n",
    "list1 = rtList[-rtRotate:] + rtList[:-rtRotate]\n",
    "\n",
    "print('\\nFinal List Items After Right Rotating')\n",
    "print(list1)"
   ]
  },
  {
   "cell_type": "code",
   "execution_count": 7,
   "id": "804b4a64-81da-4da8-968a-bba8350c353b",
   "metadata": {},
   "outputs": [
    {
     "name": "stdout",
     "output_type": "stream",
     "text": [
      "[2, 3, 5, 7, 11, 13, 17, 19, 23, 29, 31, 37, 41, 43, 47]\n"
     ]
    }
   ],
   "source": [
    "# 33. Create a list of prime numbers up to 50.\n",
    "\n",
    "def is_prime(n):\n",
    "    if n <= 1:\n",
    "        return False\n",
    "    for i in range(2, int(n**0.5) + 1):\n",
    "        if n % i == 0:\n",
    "            return False\n",
    "    return True\n",
    " \n",
    "prime_numbers = [x for x in range(1, 51) if is_prime(x)]\n",
    "print(prime_numbers)"
   ]
  },
  {
   "cell_type": "code",
   "execution_count": 10,
   "id": "b603f011-4a04-49ff-8284-343f6dcf0336",
   "metadata": {},
   "outputs": [
    {
     "name": "stdout",
     "output_type": "stream",
     "text": [
      "[[1, 2], [3, 4], [5, 6], [7, 8], [9]]\n"
     ]
    }
   ],
   "source": [
    "# 34. Split a list into chunks of size `n`.\n",
    "def split(list_a, chunk_size):\n",
    "    for i in range(0, len(list_a), chunk_size):\n",
    "        yield list_a[i:i + chunk_size]\n",
    "\n",
    "chunk_size = 2\n",
    "my_list = [1,2,3,4,5,6,7,8,9]\n",
    "print(list(split(my_list, chunk_size)))"
   ]
  },
  {
   "cell_type": "code",
   "execution_count": 11,
   "id": "b4e2b3dc-8412-48af-928b-189dce3af960",
   "metadata": {},
   "outputs": [
    {
     "name": "stdout",
     "output_type": "stream",
     "text": [
      "Second highest number is :  45\n"
     ]
    }
   ],
   "source": [
    "# 35. Find the second largest number in a list.\n",
    "\n",
    "list1 = [10, 20, 4, 45, 99]\n",
    " \n",
    "mx = max(list1[0], list1[1]) \n",
    "secondmax = min(list1[0], list1[1]) \n",
    "n = len(list1)\n",
    "for i in range(2,n): \n",
    "    if list1[i] > mx: \n",
    "        secondmax = mx\n",
    "        mx = list1[i] \n",
    "    elif list1[i] > secondmax and \\\n",
    "        mx != list1[i]: \n",
    "        secondmax = list1[i]\n",
    "    elif mx == secondmax and \\\n",
    "        secondmax != list1[i]:\n",
    "          secondmax = list1[i]\n",
    "print(\"Second highest number is : \",\\\n",
    "      str(secondmax))"
   ]
  },
  {
   "cell_type": "code",
   "execution_count": 12,
   "id": "fcc18620-a019-467e-8bea-395410433df8",
   "metadata": {},
   "outputs": [
    {
     "name": "stdout",
     "output_type": "stream",
     "text": [
      "[1, 16, 9, 4, 25]\n"
     ]
    }
   ],
   "source": [
    "# 36. Replace every element in a list with its square.\n",
    "\n",
    "def square_list(list1):\n",
    "    for i in list1:\n",
    "        list1[list1.index(i)] = i**2\n",
    "    print(list1)\n",
    "\n",
    "square_list([1, 2, 3, 4, 5])"
   ]
  },
  {
   "cell_type": "code",
   "execution_count": 13,
   "id": "13fe487b-b4fc-46b1-ac61-abaca784eb6c",
   "metadata": {},
   "outputs": [
    {
     "name": "stdout",
     "output_type": "stream",
     "text": [
      "{0: 'a', 1: 'b', 2: 'c', 3: 'd', 4: 'e'}\n"
     ]
    }
   ],
   "source": [
    "# 37. Convert a list to a dictionary where list elements become keys and their\n",
    "#indices become values.\n",
    "\n",
    "def list_to_dict_with_index(lst):\n",
    "    dict_with_index = {index: value for index, value in enumerate(lst)}\n",
    "    return dict_with_index\n",
    " \n",
    "if __name__ == \"__main__\":\n",
    "    sample_list = ['a', 'b', 'c', 'd', 'e']\n",
    "    result_dict = list_to_dict_with_index(sample_list)\n",
    "    print(result_dict)"
   ]
  },
  {
   "cell_type": "code",
   "execution_count": 14,
   "id": "e240de01-5b23-45dc-ac87-43fdee9973d3",
   "metadata": {},
   "outputs": [
    {
     "name": "stdout",
     "output_type": "stream",
     "text": [
      "['banana', 'cherry', 'apple']\n"
     ]
    }
   ],
   "source": [
    "# 38. Shuffle the elements of a list randomly.\n",
    "\n",
    "import random\n",
    "\n",
    "mylist = [\"apple\", \"banana\", \"cherry\"]\n",
    "random.shuffle(mylist)\n",
    "\n",
    "print(mylist)"
   ]
  },
  {
   "cell_type": "code",
   "execution_count": 17,
   "id": "f3305a49-b379-416d-9667-6df21f6800f0",
   "metadata": {},
   "outputs": [
    {
     "name": "stdout",
     "output_type": "stream",
     "text": [
      "The factorial of 10 is 1\n",
      "The factorial of 10 is 2\n",
      "The factorial of 10 is 6\n",
      "The factorial of 10 is 24\n",
      "The factorial of 10 is 120\n",
      "The factorial of 10 is 720\n",
      "The factorial of 10 is 5040\n",
      "The factorial of 10 is 40320\n",
      "The factorial of 10 is 362880\n",
      "The factorial of 10 is 3628800\n"
     ]
    }
   ],
   "source": [
    "# 39. Create a list of the first 10 factorial numbers.\n",
    "\n",
    "num = 10\n",
    "factorial = 1\n",
    "if num < 0:\n",
    "    print(\"Sorry, factorial does not exist for negative numbers\")\n",
    "elif num == 0:\n",
    "    print(\"The factorial of 0 is 1\")\n",
    "else:\n",
    "    for i in range(1,num + 1):\n",
    "        factorial = factorial*i\n",
    "        print(\"The factorial of\",num,\"is\",factorial)"
   ]
  },
  {
   "cell_type": "code",
   "execution_count": 18,
   "id": "53e7acdd-836a-4b5d-887c-182118f5c64a",
   "metadata": {},
   "outputs": [
    {
     "name": "stdout",
     "output_type": "stream",
     "text": [
      "True\n",
      "False\n"
     ]
    }
   ],
   "source": [
    "# 40. Check if two lists have at least one element in common.\n",
    "\n",
    "def common_data(list1, list2):\n",
    "    result = False\n",
    " \n",
    "    # traverse in the 1st list\n",
    "    for x in list1:\n",
    " \n",
    "        # traverse in the 2nd list\n",
    "        for y in list2:\n",
    "   \n",
    "            # if one common\n",
    "            if x == y:\n",
    "                result = True\n",
    "                return result \n",
    "                 \n",
    "    return result\n",
    "     \n",
    "\n",
    "a = [1, 2, 3, 4, 5]\n",
    "b = [5, 6, 7, 8, 9]\n",
    "print(common_data(a, b))\n",
    " \n",
    "a = [1, 2, 3, 4, 5]\n",
    "b = [6, 7, 8, 9]\n",
    "print(common_data(a, b))"
   ]
  },
  {
   "cell_type": "code",
   "execution_count": 20,
   "id": "df45b60b-064c-43d8-b7b6-3be6b9067389",
   "metadata": {},
   "outputs": [
    {
     "name": "stdout",
     "output_type": "stream",
     "text": [
      "LIST before clear: [6, 0, 4, 1]\n",
      "LIST after clear: []\n"
     ]
    }
   ],
   "source": [
    "# 41. Remove all elements from a list.\n",
    "\n",
    "LIST = [6, 0, 4, 1]\n",
    "print('LIST before clear:', LIST)\n",
    " \n",
    "# Clearing list\n",
    "LIST.clear()\n",
    "print('LIST after clear:', LIST)"
   ]
  },
  {
   "cell_type": "code",
   "execution_count": 21,
   "id": "fa8013d8-632e-42b4-b855-f4d749b8f2ac",
   "metadata": {},
   "outputs": [
    {
     "name": "stdout",
     "output_type": "stream",
     "text": [
      "List before changes: [1, 2, 3, 4, -1, -4, 5, -6]\n",
      "List after changes: [1, 2, 3, 4, 0, 0, 5, 0]\n"
     ]
    }
   ],
   "source": [
    "# 42. Replace negative numbers in a list with 0.\n",
    "\n",
    "given_list = [1, 2, 3, 4, -1, -4, 5, -6]\n",
    "\n",
    "print(f'List before changes: {given_list}')\n",
    "\n",
    "for i in range(len(given_list)):\n",
    "    if given_list[i] < 0:\n",
    "        given_list[i] = 0\n",
    "\n",
    "print(f'List after changes: {given_list}')"
   ]
  },
  {
   "cell_type": "code",
   "execution_count": 22,
   "id": "844a02c9-83c6-481e-8783-7c0209f63a6f",
   "metadata": {},
   "outputs": [
    {
     "name": "stdout",
     "output_type": "stream",
     "text": [
      "['P', 'W', 'S', 'K', 'I', 'L', 'L', 'S']\n"
     ]
    }
   ],
   "source": [
    "# 43. Convert a string into a list of words.\n",
    "\n",
    "s = \"PWSKILLS\"\n",
    "x = list(s)\n",
    "print(x)"
   ]
  },
  {
   "cell_type": "code",
   "execution_count": 24,
   "id": "3fb785c2-48d9-427d-b837-4c074b30ad65",
   "metadata": {},
   "outputs": [
    {
     "name": "stdout",
     "output_type": "stream",
     "text": [
      "PWSkillsisawsome\n"
     ]
    }
   ],
   "source": [
    "# 44. Convert a list of words into a string.\n",
    "\n",
    "def listToString(s):\n",
    " \n",
    "    # initialize an empty string\n",
    "    str1 = \"\"\n",
    " \n",
    "    # traverse in the string\n",
    "    for ele in s:\n",
    "        str1 += ele\n",
    " \n",
    "    # return string\n",
    "    return str1\n",
    "# Driver code\n",
    "s = ['PW', 'Skills', 'is' , 'awsome']\n",
    "print(listToString(s))"
   ]
  },
  {
   "cell_type": "code",
   "execution_count": 25,
   "id": "c060627e-8fb3-4faf-bc16-86455a6d4e9c",
   "metadata": {},
   "outputs": [
    {
     "name": "stdout",
     "output_type": "stream",
     "text": [
      "No\n",
      "Yes\n"
     ]
    }
   ],
   "source": [
    "#45. Create a list of the first `n` powers of 2.\n",
    "\n",
    "import math\n",
    " \n",
    "# Function to check\n",
    "# Log base 2\n",
    "def Log2(x):\n",
    "    return (math.log10(x) /\n",
    "            math.log10(2));\n",
    " \n",
    "# Function to check\n",
    "# if x is power of 2\n",
    "def isPowerOfTwo(n):\n",
    "    return (math.ceil(Log2(n)) == math.floor(Log2(n)));\n",
    " \n",
    "# Driver Code\n",
    "if(isPowerOfTwo(31)):\n",
    "    print(\"Yes\");\n",
    "else:\n",
    "    print(\"No\");\n",
    "if(isPowerOfTwo(64)):\n",
    "    print(\"Yes\");\n",
    "else:\n",
    "    print(\"No\");"
   ]
  },
  {
   "cell_type": "code",
   "execution_count": 28,
   "id": "ce2f4ac5-6f2a-43f3-95bb-85ad4b47a343",
   "metadata": {},
   "outputs": [
    {
     "name": "stdout",
     "output_type": "stream",
     "text": [
      "The original list : ['gfg', 'is', 'best', 'for', 'PWSKILLS']\n",
      "Maximum length string is : PWSKILLS\n"
     ]
    }
   ],
   "source": [
    "# 46. Find the longest string in a list of strings.\n",
    "\n",
    "test_list = ['gfg', 'is', 'best', 'for', 'PWSKILLS']\n",
    " \n",
    "# printing original list \n",
    "print(\"The original list : \" + str(test_list))\n",
    " \n",
    "# Longest String in list\n",
    "# using loop\n",
    "max_len = -1\n",
    "for ele in test_list:\n",
    "    if len(ele) > max_len:\n",
    "        max_len = len(ele)\n",
    "        res = ele\n",
    "\n",
    "print(\"Maximum length string is : \" + res)"
   ]
  },
  {
   "cell_type": "code",
   "execution_count": 30,
   "id": "5012a96f-c606-4ca4-9c43-139f6408a180",
   "metadata": {},
   "outputs": [
    {
     "name": "stdout",
     "output_type": "stream",
     "text": [
      "The original list : ['gfg', 'is', 'best']\n",
      "Length of minimum string is : 2\n"
     ]
    }
   ],
   "source": [
    "# 47. Find the shortest string in a list of strings.\n",
    "\n",
    "test_list = ['gfg', 'is', 'best']\n",
    " \n",
    "# printing original list\n",
    "print(\"The original list : \" + str(test_list))\n",
    " \n",
    "# Minimum String length\n",
    "# using min() + generator expression\n",
    "res = min(len(ele) for ele in test_list)\n",
    " \n",
    "# printing result\n",
    "print(\"Length of minimum string is : \" + str(res))\n"
   ]
  },
  {
   "cell_type": "code",
   "execution_count": 31,
   "id": "1ecbc572-6c1e-4603-a542-0ed780c6b0b3",
   "metadata": {},
   "outputs": [
    {
     "name": "stdout",
     "output_type": "stream",
     "text": [
      "[1, 3, 6, 10, 15, 21, 28, 36, 45, 55]\n"
     ]
    }
   ],
   "source": [
    "# 48. Create a list of the first `n` triangular numbers.\n",
    "\n",
    "limit = 10\n",
    "triangle_nums = []\n",
    "num = 0\n",
    "\n",
    "for i in range(1, limit + 1):\n",
    "    num += i\n",
    "    triangle_nums.append(num)\n",
    "print(triangle_nums)"
   ]
  },
  {
   "cell_type": "code",
   "execution_count": 32,
   "id": "0503759f-bfc0-41ae-8f8c-303c0879288b",
   "metadata": {},
   "outputs": [
    {
     "name": "stdout",
     "output_type": "stream",
     "text": [
      "Original list : [9, 4, 5, 8, 10]\n",
      "Original sub list : [10, 5, 4]\n",
      "Yes, list is subset of other.\n"
     ]
    }
   ],
   "source": [
    "# 49. Check if a list contains another list as a subsequence.\n",
    "\n",
    "test_list = [9, 4, 5, 8, 10]\n",
    "sub_list = [10, 5, 4]\n",
    " \n",
    "# printing original lists\n",
    "print(\"Original list : \" + str(test_list))\n",
    "print(\"Original sub list : \" + str(sub_list))\n",
    " \n",
    "# using all() to\n",
    "# check subset of list\n",
    "flag = 0\n",
    "if(all(x in test_list for x in sub_list)):\n",
    "    flag = 1\n",
    "if (flag):\n",
    "    print(\"Yes, list is subset of other.\")\n",
    "else:\n",
    "    print(\"No, list is not subset of other.\")\n"
   ]
  },
  {
   "cell_type": "code",
   "execution_count": 34,
   "id": "03371435-9af1-4c0f-b7ba-526279d982c3",
   "metadata": {},
   "outputs": [
    {
     "name": "stdout",
     "output_type": "stream",
     "text": [
      "[19, 65, 23, 90]\n"
     ]
    }
   ],
   "source": [
    "# 50. Swap two elements in a list by their indices.\n",
    "\n",
    "def swapPositions(list, pos1, pos2):\n",
    "     \n",
    "    list[pos1], list[pos2] = list[pos2], list[pos1]\n",
    "    return list\n",
    "\n",
    "List = [23, 65, 19, 90]\n",
    "pos1, pos2  = 1, 3\n",
    " \n",
    "print(swapPositions(List, pos1-1, pos2-1))"
   ]
  },
  {
   "cell_type": "code",
   "execution_count": null,
   "id": "c9e7f406-0d64-471d-857f-75b649dc3c36",
   "metadata": {},
   "outputs": [],
   "source": []
  },
  {
   "cell_type": "code",
   "execution_count": 35,
   "id": "ef8d7db7-f8b3-44a0-bb78-ca6870619041",
   "metadata": {},
   "outputs": [],
   "source": [
    "# Tuple Based Practice Problem "
   ]
  },
  {
   "cell_type": "code",
   "execution_count": 36,
   "id": "1c57483b-3c8f-42ee-b990-d4562569d7e5",
   "metadata": {},
   "outputs": [
    {
     "name": "stdout",
     "output_type": "stream",
     "text": [
      "()\n",
      "(1, 2, 3, 4, 5)\n",
      "(1, 'Hello', 3.4)\n",
      "('mouse', [8, 4, 6], (1, 2, 3))\n"
     ]
    }
   ],
   "source": [
    "# 1. Create a tuple with integers from 1 to 5.\n",
    "\n",
    "my_tuple = ()\n",
    "print(my_tuple)\n",
    "\n",
    "# Tuple having integers\n",
    "my_tuple = (1, 2, 3, 4, 5)\n",
    "print(my_tuple)\n",
    "\n",
    "# tuple with mixed datatypes\n",
    "my_tuple = (1, \"Hello\", 3.4)\n",
    "print(my_tuple)\n",
    "\n",
    "# nested tuple\n",
    "my_tuple = (\"mouse\", [8, 4, 6], (1, 2, 3))\n",
    "print(my_tuple)"
   ]
  },
  {
   "cell_type": "code",
   "execution_count": 37,
   "id": "02e273f7-9bd5-4b01-92bc-8de970023544",
   "metadata": {},
   "outputs": [
    {
     "name": "stdout",
     "output_type": "stream",
     "text": [
      "The original list is : [(1, 'Rash', 21), (2, 'Varsha', 20), (3, 'Kil', 19)]\n",
      "List with only nth tuple element (i.e names) : ['Rash', 'Varsha', 'Kil']\n"
     ]
    }
   ],
   "source": [
    "# 2. Access the third element of a tuple\n",
    "\n",
    "test_list = [(1, 'Rash', 21), (2, 'Varsha', 20), (3, 'Kil', 19)]\n",
    " \n",
    "# printing original list \n",
    "print (\"The original list is : \" + str(test_list))\n",
    "\n",
    "res = [lis[1] for lis in test_list]\n",
    "\n",
    "print (\"List with only nth tuple element (i.e names) : \" + str(res))"
   ]
  },
  {
   "cell_type": "code",
   "execution_count": 2,
   "id": "26573ce8-13c4-494a-a11c-797b023a274a",
   "metadata": {},
   "outputs": [
    {
     "name": "stdout",
     "output_type": "stream",
     "text": [
      "5\n"
     ]
    }
   ],
   "source": [
    "# 3. Find the length of a tuple without using the `len()` function.\n",
    "\n",
    "string = 'Hello'\n",
    "\n",
    "count = 0\n",
    "\n",
    "for i in string:\n",
    " \n",
    "    count+=1\n",
    "print(count)"
   ]
  },
  {
   "cell_type": "code",
   "execution_count": 5,
   "id": "dc5a1cbf-6a37-4bf0-8465-f87bfe08bd1f",
   "metadata": {},
   "outputs": [
    {
     "name": "stdout",
     "output_type": "stream",
     "text": [
      "0\n",
      "3\n",
      "4\n"
     ]
    }
   ],
   "source": [
    "# 4. Count the occurrences of an element in a tuple.\n",
    "\n",
    "def countX(tup, x):\n",
    "    count = 0\n",
    "    for ele in tup:\n",
    "        if (ele == x):\n",
    "            count = count + 1\n",
    "    return count\n",
    " \n",
    "tup = (10, 8, 5, 2, 10, 15, 10, 8, 5, 8, 8, 2)\n",
    "enq = 4\n",
    "enq1 = 10\n",
    "enq2 = 8\n",
    " \n",
    "print(countX(tup, enq))\n",
    "print(countX(tup, enq1))\n",
    "print(countX(tup, enq2))"
   ]
  },
  {
   "cell_type": "code",
   "execution_count": 6,
   "id": "3a2c1207-d4ea-4097-9245-8ff81ac247b8",
   "metadata": {},
   "outputs": [
    {
     "name": "stdout",
     "output_type": "stream",
     "text": [
      "1\n"
     ]
    }
   ],
   "source": [
    "# 5. Find the index of the first occurrence of an element in a tuple.\n",
    "\n",
    "my_tuple = (1, 2, 3, 2, 4, 2, 5)\n",
    "index = my_tuple.index(2)\n",
    "print(index)"
   ]
  },
  {
   "cell_type": "code",
   "execution_count": 7,
   "id": "914f8ad9-c0cf-41fb-87e2-b7b3fc93aaed",
   "metadata": {},
   "outputs": [
    {
     "name": "stdout",
     "output_type": "stream",
     "text": [
      "True\n",
      "False\n"
     ]
    }
   ],
   "source": [
    "# 6. Check if an element exists in a tuple.\n",
    "\n",
    "tuplex = (\"w\", 3, \"r\", \"e\", \"s\", \"o\", \"u\", \"r\", \"c\", \"e\")\n",
    "print(\"r\" in tuplex)\n",
    "print(5 in tuplex)"
   ]
  },
  {
   "cell_type": "code",
   "execution_count": 10,
   "id": "e17995e7-949b-40e7-9129-911f3f28dea6",
   "metadata": {},
   "outputs": [
    {
     "name": "stdout",
     "output_type": "stream",
     "text": [
      "('a', 'mm', 'ppp', 'bb', 'cc')\n",
      "<class 'tuple'>\n"
     ]
    }
   ],
   "source": [
    "# 7. Convert a tuple to a list.\n",
    "\n",
    "my_tuple = ('a', 'mm', 'ppp', 'bb', 'cc')\n",
    "\n",
    "print(my_tuple)\n",
    "print(type(my_tuple))"
   ]
  },
  {
   "cell_type": "code",
   "execution_count": 11,
   "id": "39cab1fe-69b4-4d58-8659-29bd30d456f1",
   "metadata": {},
   "outputs": [
    {
     "name": "stdout",
     "output_type": "stream",
     "text": [
      "['aa', 'pp', 'yy', 'r', 'kkk']\n",
      "<class 'list'>\n"
     ]
    }
   ],
   "source": [
    "# 8. Convert a list to a tuple.\n",
    "\n",
    "my_list = ['aa', 'pp', 'yy', 'r', 'kkk']\n",
    "\n",
    "print(my_list)\n",
    "print(type(my_list))"
   ]
  },
  {
   "cell_type": "code",
   "execution_count": 13,
   "id": "a5b5a0ae-f83f-40b5-8f9f-9fbb7844dc61",
   "metadata": {},
   "outputs": [
    {
     "name": "stdout",
     "output_type": "stream",
     "text": [
      "MNNIT Allahabad\n",
      "5000\n",
      "Engineering\n"
     ]
    }
   ],
   "source": [
    "# 9. Unpack the elements of a tuple into variables.\n",
    "\n",
    "a = (\"MNNIT Allahabad\", 5000, \"Engineering\")  \n",
    "\n",
    "(college, student, type_ofcollege) = a  \n",
    "\n",
    "print(college)\n",
    " \n",
    "print(student)\n",
    "\n",
    "print(type_ofcollege)"
   ]
  },
  {
   "cell_type": "code",
   "execution_count": 14,
   "id": "642b1bcc-0b05-41fa-be0f-328c28a71f83",
   "metadata": {},
   "outputs": [
    {
     "name": "stdout",
     "output_type": "stream",
     "text": [
      "Tuple Items =  (3, 78, 67, 34, 88, 11, 23, 19)\n",
      "\n",
      "The Even Numbers in this evTuple Tuple are:\n",
      "78  34  88  "
     ]
    }
   ],
   "source": [
    "# 10. Create a tuple of even numbers from 1 to 10.\n",
    "\n",
    "evTuple = (3, 78, 67, 34, 88, 11, 23, 19)\n",
    "print(\"Tuple Items = \", evTuple)\n",
    "\n",
    "print(\"\\nThe Even Numbers in this evTuple Tuple are:\")\n",
    "for i in range(len(evTuple)):\n",
    "    if(evTuple[i] % 2 == 0):\n",
    "        print(evTuple[i], end = \"  \")"
   ]
  },
  {
   "cell_type": "code",
   "execution_count": 15,
   "id": "ad47a7ae-fb0c-4679-87fc-fcb7043c354a",
   "metadata": {},
   "outputs": [
    {
     "name": "stdout",
     "output_type": "stream",
     "text": [
      "Odd Tuple Items =  (9, 22, 33, 45, 56, 77, 89, 90)\n",
      "\n",
      "The Odd Numbers in oddTuple Tuple are:\n",
      "9  33  45  77  89  "
     ]
    }
   ],
   "source": [
    "# 11. Create a tuple of odd numbers from 1 to 10.\n",
    "\n",
    "oddTuple = (9, 22, 33, 45, 56, 77, 89, 90)\n",
    "print(\"Odd Tuple Items = \", oddTuple)\n",
    "\n",
    "print(\"\\nThe Odd Numbers in oddTuple Tuple are:\")\n",
    "for i in range(len(oddTuple)):\n",
    "    if(oddTuple[i] % 2 != 0):\n",
    "        print(oddTuple[i], end = \"  \")"
   ]
  },
  {
   "cell_type": "code",
   "execution_count": 16,
   "id": "add93ad5-1f80-4bb5-adf7-4de3bcf0cf17",
   "metadata": {},
   "outputs": [
    {
     "name": "stdout",
     "output_type": "stream",
     "text": [
      "The original tuple 1 : (1, 3, 5)\n",
      "The original tuple 2 : (4, 6)\n",
      "The tuple after concatenation is : (1, 3, 5, 4, 6)\n"
     ]
    }
   ],
   "source": [
    "# 12. Concatenate two tuples.\n",
    "\n",
    "test_tup1 = (1, 3, 5)\n",
    "test_tup2 = (4, 6)\n",
    "\n",
    "print(\"The original tuple 1 : \" + str(test_tup1))\n",
    "print(\"The original tuple 2 : \" + str(test_tup2))\n",
    "res = test_tup1 + test_tup2\n",
    "\n",
    "print(\"The tuple after concatenation is : \" + str(res))"
   ]
  },
  {
   "cell_type": "code",
   "execution_count": 17,
   "id": "44930ad9-d9be-45b9-824b-9d1176920831",
   "metadata": {},
   "outputs": [
    {
     "name": "stdout",
     "output_type": "stream",
     "text": [
      "The tuple is : \n",
      "(11, 14, 0)\n",
      "The tuple after duplicating 3 times is\n",
      "((11, 14, 0), (11, 14, 0), (11, 14, 0))\n"
     ]
    }
   ],
   "source": [
    "# 13. Repeat a tuple three times.\n",
    "\n",
    "my_tuple_1 = (11, 14, 0)\n",
    "\n",
    "print(\"The tuple is : \")\n",
    "print(my_tuple_1)\n",
    "N = 5\n",
    "\n",
    "my_result = ((my_tuple_1, ) * 3)\n",
    "\n",
    "print(\"The tuple after duplicating \"+ str(3) + \" times is\")\n",
    "print(my_result)"
   ]
  },
  {
   "cell_type": "code",
   "execution_count": 19,
   "id": "26fa6109-801b-4b60-8a09-749a2e003dda",
   "metadata": {},
   "outputs": [
    {
     "name": "stdout",
     "output_type": "stream",
     "text": [
      "Mytuple is empty\n",
      "()\n"
     ]
    }
   ],
   "source": [
    "# 14. Check if a tuple is empty.\n",
    "\n",
    "Mytuple=()\n",
    "if not Mytuple:\n",
    "    print (\"Mytuple is empty\")\n",
    "else:\n",
    "    print (\"Mytuple is not empty\")\n",
    "# Printing the tuple\n",
    "print(Mytuple)"
   ]
  },
  {
   "cell_type": "code",
   "execution_count": 20,
   "id": "d548cb2a-2251-4643-bbe9-4582e5683e7d",
   "metadata": {},
   "outputs": [
    {
     "name": "stdout",
     "output_type": "stream",
     "text": [
      "The first element of the nested Tuple is  Satyam\n",
      "The second element of the nested Tuple is  Rishab\n"
     ]
    }
   ],
   "source": [
    "# 15. Create a nested tuple.\n",
    "\n",
    "x = (\"Mohan\", (\"Satyam\", \"Rishab\") , \"Paul\", \"Kriti\", \"Salim\")\n",
    "print(\"The first element of the nested Tuple is \", x[1][0])\n",
    "print(\"The second element of the nested Tuple is \", x[1][1])"
   ]
  },
  {
   "cell_type": "code",
   "execution_count": 21,
   "id": "de6a78e5-996b-4957-a25f-ee7da9950491",
   "metadata": {},
   "outputs": [
    {
     "name": "stdout",
     "output_type": "stream",
     "text": [
      "The first element of the nested Tuple is  Satyam\n"
     ]
    }
   ],
   "source": [
    "# 16. Access the first element of a nested tuple.\n",
    "\n",
    "x = (\"Mohan\", (\"Satyam\", \"Rishab\") , \"Paul\", \"Kriti\", \"Salim\")\n",
    "print(\"The first element of the nested Tuple is \", x[1][0])"
   ]
  },
  {
   "cell_type": "code",
   "execution_count": 24,
   "id": "2ad435f4-de7a-4a94-8c44-afb70b3bf093",
   "metadata": {},
   "outputs": [
    {
     "name": "stdout",
     "output_type": "stream",
     "text": [
      "<class 'tuple'>\n"
     ]
    }
   ],
   "source": [
    "# 17. Create a tuple with a single element.\n",
    "\n",
    "thistuple = (\"apple\",)\n",
    "print(type(thistuple))"
   ]
  },
  {
   "cell_type": "code",
   "execution_count": 27,
   "id": "fc0070f0-0b1a-4af3-9145-aabe2f1464a0",
   "metadata": {},
   "outputs": [
    {
     "name": "stdout",
     "output_type": "stream",
     "text": [
      "The two tuples are equal\n"
     ]
    }
   ],
   "source": [
    "# 18. Compare two tuples.\n",
    "\n",
    "tuple1 = (1, 2, 3)\n",
    "tuple2 = (1, 2, 3)\n",
    "\n",
    "if tuple1 == tuple2:\n",
    "    print(\"The two tuples are equal\")\n",
    "else:\n",
    "    print(\"The two tuples are not equal\")\n"
   ]
  },
  {
   "cell_type": "code",
   "execution_count": 8,
   "id": "467b0674-3bcc-4d1a-ba74-973706e0451f",
   "metadata": {},
   "outputs": [],
   "source": [
    "# 19. Delete a tuple."
   ]
  },
  {
   "cell_type": "code",
   "execution_count": null,
   "id": "081b30a7-d8a5-4aa0-9519-e18de3f5bb2e",
   "metadata": {},
   "outputs": [],
   "source": []
  },
  {
   "cell_type": "code",
   "execution_count": null,
   "id": "56588d23-e04d-4eef-b494-1695908d5ad5",
   "metadata": {},
   "outputs": [],
   "source": []
  },
  {
   "cell_type": "code",
   "execution_count": 9,
   "id": "1ec0f6c5-0812-4d61-9711-251f410fe242",
   "metadata": {},
   "outputs": [
    {
     "name": "stdout",
     "output_type": "stream",
     "text": [
      "('a', 'b')\n"
     ]
    }
   ],
   "source": [
    "# 20. Slice a tuple.\n",
    "\n",
    "a = (\"a\", \"b\", \"c\", \"d\", \"e\", \"f\", \"g\", \"h\")\n",
    "x = slice(2)\n",
    "print(a[x])"
   ]
  },
  {
   "cell_type": "code",
   "execution_count": 10,
   "id": "727739af-0522-4a57-9894-d439c3d480d0",
   "metadata": {},
   "outputs": [
    {
     "name": "stdout",
     "output_type": "stream",
     "text": [
      "Maximum of Tuple is 6\n"
     ]
    }
   ],
   "source": [
    "# 21. Find the maximum value in a tuple.\n",
    "\n",
    "Tuple = ( 1, 3, 4, 2, 5, 6 ) \n",
    "   \n",
    "res = max(Tuple) \n",
    "print('Maximum of Tuple is', res) "
   ]
  },
  {
   "cell_type": "code",
   "execution_count": 11,
   "id": "5458ddda-66a8-4dc5-ac48-387e3194c7e3",
   "metadata": {},
   "outputs": [
    {
     "name": "stdout",
     "output_type": "stream",
     "text": [
      "Maximum of Tuple is 1\n"
     ]
    }
   ],
   "source": [
    "# 22. Find the minimum value in a tuple.\n",
    "\n",
    "Tuple = ( 1, 3, 4, 2, 5, 6 ) \n",
    "   \n",
    "res = min(Tuple) \n",
    "print('Maximum of Tuple is', res) "
   ]
  },
  {
   "cell_type": "code",
   "execution_count": 12,
   "id": "0951915b-c46d-4e34-bc73-b2a941f15b27",
   "metadata": {},
   "outputs": [
    {
     "name": "stdout",
     "output_type": "stream",
     "text": [
      "Input string : python\n",
      "Output tuple: ('python',)\n",
      "<class 'tuple'>\n"
     ]
    }
   ],
   "source": [
    "# 23. Convert a string to a tuple of characters.\n",
    "\n",
    "s = \"python\"\n",
    "print(\"Input string :\", s)\n",
    "\n",
    "t = s,\n",
    "print('Output tuple:', t)\n",
    "print(type(t))"
   ]
  },
  {
   "cell_type": "code",
   "execution_count": 14,
   "id": "9605c226-923f-4d16-bb1d-280dbd8d89d0",
   "metadata": {},
   "outputs": [
    {
     "name": "stdout",
     "output_type": "stream",
     "text": [
      "pwskills\n"
     ]
    }
   ],
   "source": [
    "# 24. Convert a tuple of characters to a string.\n",
    "\n",
    "def convertTuple(tup):\n",
    "        # initialize an empty string\n",
    "    str = ''\n",
    "    for item in tup:\n",
    "        str = str + item\n",
    "    return str\n",
    "\n",
    "tuple = ('p','w','s','k','i','l','l','s')\n",
    "str = convertTuple(tuple)\n",
    "print(str)"
   ]
  },
  {
   "cell_type": "code",
   "execution_count": 15,
   "id": "b3e7e677-2680-4be6-b618-e5bb916ed937",
   "metadata": {},
   "outputs": [
    {
     "name": "stdout",
     "output_type": "stream",
     "text": [
      "('tuple', False, 3.2, 1)\n"
     ]
    }
   ],
   "source": [
    "# 25. Create a tuple from multiple data types.\n",
    "\n",
    "tuplex = (\"tuple\", False, 3.2, 1)\n",
    "print(tuplex)"
   ]
  },
  {
   "cell_type": "code",
   "execution_count": 1,
   "id": "92cc1022-268b-4c0b-a988-03b195d7fbb1",
   "metadata": {},
   "outputs": [
    {
     "name": "stdout",
     "output_type": "stream",
     "text": [
      "The first list is : [1, 2, 4, 3, 5]\n",
      "The second list is : [1, 2, 4, 3, 5]\n",
      "The lists are identical\n"
     ]
    }
   ],
   "source": [
    "# 26. Check if two tuples are identical.\n",
    "\n",
    "test_list1 = [1, 2, 4, 3, 5]\n",
    "test_list2 = [1, 2, 4, 3, 5]\n",
    " \n",
    "\n",
    "print(\"The first list is : \" + str(test_list1))\n",
    "print(\"The second list is : \" + str(test_list2))\n",
    " \n",
    "\n",
    "test_list1.sort()\n",
    "test_list2.sort()\n",
    " \n",
    "# using == to check if\n",
    "# lists are equal\n",
    "if test_list1 == test_list2:\n",
    "    print(\"The lists are identical\")\n",
    "else:\n",
    "    print(\"The lists are not identical\")"
   ]
  },
  {
   "cell_type": "code",
   "execution_count": 2,
   "id": "418547aa-dcec-439c-8c4c-42339e44399c",
   "metadata": {},
   "outputs": [
    {
     "name": "stdout",
     "output_type": "stream",
     "text": [
      "('Itika', 'Arshia', 'Peter', 'Parker')\n",
      "<class 'tuple'>\n"
     ]
    }
   ],
   "source": [
    "# 27. Sort the elements of a tuple.\n",
    "\n",
    "tuple_ = ('Itika', 'Arshia', 'Peter', 'Parker')  \n",
    "list(tuple_).sort()   \n",
    "print(tuple_)  \n",
    "print(type(tuple_))"
   ]
  },
  {
   "cell_type": "code",
   "execution_count": 3,
   "id": "88df7629-78c1-43f8-8b09-22a7411ca9c0",
   "metadata": {},
   "outputs": [
    {
     "name": "stdout",
     "output_type": "stream",
     "text": [
      "The string tuple is : (3, 7, 1, 9)\n",
      "The integer Tuple is : (3, 7, 1, 9)\n"
     ]
    }
   ],
   "source": [
    "# 28. Convert a tuple of integers to a tuple of strings.\n",
    "\n",
    "tupleString = \"(3, 7, 1, 9)\"\n",
    "print(\"The string tuple is : \" + tupleString)\n",
    "\n",
    "# Converting tuple string to integer tuple \n",
    "intTuple = tuple(int(ele) for ele in tupleString.replace('(', '').replace(')', '').replace('...', '').split(', '))\n",
    "\n",
    "# Printing the converted integer tuple \n",
    "print(\"The integer Tuple is : \" + str(intTuple))"
   ]
  },
  {
   "cell_type": "code",
   "execution_count": 4,
   "id": "bbfe0dad-2002-40a4-8dbf-50c2ce0321af",
   "metadata": {},
   "outputs": [
    {
     "name": "stdout",
     "output_type": "stream",
     "text": [
      "The string tuple is : (3, 7, 1, 9)\n",
      "The integer Tuple is : (3, 7, 1, 9)\n"
     ]
    }
   ],
   "source": [
    "# 29. Convert a tuple of strings to a tuple of integers.\n",
    "\n",
    "tupleString = \"(3, 7, 1, 9)\"\n",
    "print(\"The string tuple is : \" + tupleString)\n",
    "\n",
    "# Converting tuple string to integer tuple \n",
    "intTuple = tuple(int(ele) for ele in tupleString.replace('(', '').replace(')', '').replace('...', '').split(', '))\n",
    "\n",
    "# Printing the converted integer tuple \n",
    "print(\"The integer Tuple is : \" + str(intTuple))"
   ]
  },
  {
   "cell_type": "code",
   "execution_count": 5,
   "id": "649b27d7-8578-4ec9-9903-03e08b7dbb62",
   "metadata": {},
   "outputs": [
    {
     "name": "stdout",
     "output_type": "stream",
     "text": [
      "The first tuple, A :  (1, 2, 3)\n",
      "The second tuple, B :  ('a', 'b', 'c')\n",
      "The resulting tuple is, C :  (1, 2, 3, 'a', 'b', 'c')\n"
     ]
    }
   ],
   "source": [
    "# 30. Merge two tuples.\n",
    "\n",
    "A = (1, 2, 3)\n",
    "B = ('a', 'b', 'c')\n",
    "print(\"The first tuple, A : \", A)\n",
    "print(\"The second tuple, B : \", B)\n",
    "C = A + B\n",
    "print(\"The resulting tuple is, C : \", C)"
   ]
  },
  {
   "cell_type": "code",
   "execution_count": 6,
   "id": "98151db0-a4c2-46f0-aa35-6ffc04568029",
   "metadata": {},
   "outputs": [
    {
     "name": "stdout",
     "output_type": "stream",
     "text": [
      "The original tuple : ((4, 5), ((4, 7), (8, 9), (10, 11)), ((9, 10), (3, 4)))\n",
      "The flattened tuple : ((4, 5), (4, 7), (8, 9), (10, 11), (9, 10), (3, 4))\n"
     ]
    }
   ],
   "source": [
    "# 31. Flatten a nested tuple.\n",
    "\n",
    "def flatten(test_tuple):\n",
    "     \n",
    "    if isinstance(test_tuple, tuple) and len(test_tuple) == 2 and not isinstance(test_tuple[0], tuple):\n",
    "        res = [test_tuple]\n",
    "        return tuple(res)\n",
    " \n",
    "    res = []\n",
    "    for sub in test_tuple:\n",
    "        res += flatten(sub)\n",
    "    return tuple(res)\n",
    " \n",
    "# initializing tuple\n",
    "test_tuple = ((4, 5), ((4, 7), (8, 9), (10, 11)), (((9, 10), (3, 4))))\n",
    " \n",
    "# printing original tuple\n",
    "print(\"The original tuple : \" + str(test_tuple))\n",
    " \n",
    "# Flatten Nested Tuples\n",
    "# Using recursion + isinstance()\n",
    "res = flatten(test_tuple)\n",
    " \n",
    "# printing result \n",
    "print(\"The flattened tuple : \" + str(res))"
   ]
  },
  {
   "cell_type": "code",
   "execution_count": 9,
   "id": "9a6e5429-def5-4695-8c15-64fda57c212c",
   "metadata": {},
   "outputs": [
    {
     "name": "stdout",
     "output_type": "stream",
     "text": [
      "[2, 3, 5]\n"
     ]
    }
   ],
   "source": [
    "# 32. Create a tuple of the first 5 prime numbers.\n",
    "\n",
    "def prime_numbers(n):\n",
    "    primes = []\n",
    "    for i in range(2, n + 1):\n",
    "        for j in range(2, int(i ** 0.5) + 1):\n",
    "            if i%j == 0:\n",
    "                break\n",
    "        else:\n",
    "            primes.append(i)\n",
    "    return primes\n",
    "\n",
    "prime_list = prime_numbers(5)\n",
    "print(prime_list)"
   ]
  },
  {
   "cell_type": "code",
   "execution_count": 11,
   "id": "e5e90869-5798-4234-96a2-5f5fd8b40568",
   "metadata": {},
   "outputs": [
    {
     "name": "stdout",
     "output_type": "stream",
     "text": [
      "The original tuple is : (1, 4, 5, 4, 1)\n",
      "Is list Palindrome : True\n"
     ]
    }
   ],
   "source": [
    "# 33. Check if a tuple is a palindrome.\n",
    "\n",
    "test_list = (1, 4, 5, 4, 1)\n",
    " \n",
    "# printing original list\n",
    "print(\"The original tuple is : \" + str(test_list))\n",
    " \n",
    "# Reversing the list\n",
    "reverse = test_list[::-1]\n",
    " \n",
    "# checking if palindrome\n",
    "res = test_list == reverse\n",
    " \n",
    "# printing result \n",
    "print(\"Is list Palindrome : \" + str(res))"
   ]
  },
  {
   "cell_type": "code",
   "execution_count": 17,
   "id": "95f1ee43-cab0-44d2-9f5b-84ac6d08a02a",
   "metadata": {},
   "outputs": [
    {
     "name": "stdout",
     "output_type": "stream",
     "text": [
      "[1, 4, 9, 16]\n"
     ]
    }
   ],
   "source": [
    "# 34. Create a tuple of squares of numbers from 1 to 5.\n",
    "\n",
    "squares = [x**2 for x in range(1, 5)]\n",
    "print(squares)\n"
   ]
  },
  {
   "cell_type": "code",
   "execution_count": 28,
   "id": "747362e8-99f7-42eb-b73e-8f803990805b",
   "metadata": {},
   "outputs": [
    {
     "name": "stdout",
     "output_type": "stream",
     "text": [
      "[2, 4, 6, 8, 10]\n"
     ]
    }
   ],
   "source": [
    "# 35. Filter out all even numbers from a tuple.\n",
    "\n",
    "list_A = (1,2,3,4,5,6,7,8,9,10)\n",
    "\n",
    "res = []\n",
    "\n",
    "for n in list_A:\n",
    "    if n % 2 == 0:\n",
    "        res.append(n)\n",
    "print(res)"
   ]
  },
  {
   "cell_type": "code",
   "execution_count": 29,
   "id": "137897e4-db87-4915-ac11-19eed479c612",
   "metadata": {},
   "outputs": [
    {
     "name": "stdout",
     "output_type": "stream",
     "text": [
      "30\n"
     ]
    }
   ],
   "source": [
    "# 36. Multiply all elements in a tuple by 2.\n",
    "\n",
    "from functools import reduce\n",
    "\n",
    "my_tuple = (2, 3, 5)\n",
    "\n",
    "result = reduce(lambda x, y: x * y, my_tuple)\n",
    "print(result)"
   ]
  },
  {
   "cell_type": "code",
   "execution_count": 30,
   "id": "3fbbb0fc-f3c0-4ba2-b232-16db8ccf4c0d",
   "metadata": {},
   "outputs": [
    {
     "name": "stdout",
     "output_type": "stream",
     "text": [
      "12\n"
     ]
    }
   ],
   "source": [
    "# 37. Create a tuple of random numbers.\n",
    "\n",
    "import numpy as np\n",
    "import random\n",
    "X=np.random.randint(10,20)\n",
    "print(X)"
   ]
  },
  {
   "cell_type": "code",
   "execution_count": 31,
   "id": "1be773fe-e882-4a61-b7c0-3ab13c76f3c8",
   "metadata": {},
   "outputs": [
    {
     "name": "stdout",
     "output_type": "stream",
     "text": [
      "True\n"
     ]
    }
   ],
   "source": [
    "# 38. Check if a tuple is sorted.\n",
    "\n",
    "def is_tuple_sorted(t):\n",
    "    for i in range(1, len(t)):\n",
    "        \n",
    "        if t[i] < t[i-1]:\n",
    "            return False\n",
    "    return True\n",
    "# create a tuple\n",
    "t = (1, 2, 3, 4, 5)\n",
    "# check if tuple is sorted\n",
    "print(is_tuple_sorted(t))"
   ]
  },
  {
   "cell_type": "code",
   "execution_count": 44,
   "id": "bca10a46-ac5a-4f3f-b64c-81cdec214ef2",
   "metadata": {},
   "outputs": [
    {
     "name": "stdin",
     "output_type": "stream",
     "text": [
      "Enter Position to Left Rotate List Items =  3\n"
     ]
    },
    {
     "name": "stdout",
     "output_type": "stream",
     "text": [
      "Original List Items Before Left Rotating\n",
      "[5, 10, 15, 20, 25, 30, 35, 40, 45, 50]\n",
      "\n",
      "Final List Items After Left Rotating\n",
      "[20, 25, 30, 35, 40, 45, 50, 5, 10, 15]\n"
     ]
    }
   ],
   "source": [
    "# 39. Rotate a tuple to the left by `n` positions.\n",
    "ltList = [5, 10, 15, 20, 25, 30, 35, 40, 45, 50]\n",
    "\n",
    "ltRotate = int(input(\"Enter Position to Left Rotate List Items = \"))\n",
    "\n",
    "print('Original List Items Before Left Rotating')\n",
    "print(ltList)\n",
    "\n",
    "list2 = ltList[ltRotate:] + ltList[:ltRotate]\n",
    "\n",
    "print('\\nFinal List Items After Left Rotating')\n",
    "print(list2)\n",
    "\n",
    "\n",
    "#output \n",
    "#Enter Position to Left Rotate List Items =  3\n",
    "#Original List Items Before Left Rotating\n",
    "#[5, 10, 15, 20, 25, 30, 35, 40, 45, 50]"
   ]
  },
  {
   "cell_type": "code",
   "execution_count": 35,
   "id": "5fc12b1b-0c8e-41e7-9469-c888d1eaa60c",
   "metadata": {},
   "outputs": [
    {
     "name": "stdout",
     "output_type": "stream",
     "text": [
      "[4, 5, 6, 1, 2, 3]\n"
     ]
    }
   ],
   "source": [
    "#  40. Rotate a tuple to the right by `n` positions.\n",
    "\n",
    "def rightRotate(lists, num):\n",
    "    output_list = []\n",
    " \n",
    "    # Will add values from n to the new list\n",
    "    for item in range(len(lists) - num, len(lists)):\n",
    "        output_list.append(lists[item])\n",
    " \n",
    "    \n",
    "    for item in range(0, len(lists) - num):\n",
    "        output_list.append(lists[item])\n",
    " \n",
    "    return output_list\n",
    "\n",
    "rotate_num = 3\n",
    "list_1 = [1, 2, 3, 4, 5, 6]\n",
    " \n",
    "print(rightRotate(list_1, rotate_num))"
   ]
  },
  {
   "cell_type": "code",
   "execution_count": 54,
   "id": "b2c9eefd-7202-4e64-8170-34b976210b11",
   "metadata": {},
   "outputs": [
    {
     "name": "stdin",
     "output_type": "stream",
     "text": [
      "How many terms?  10\n"
     ]
    },
    {
     "name": "stdout",
     "output_type": "stream",
     "text": [
      "Fibonacci sequence:\n",
      "0\n",
      "1\n",
      "1\n",
      "2\n",
      "3\n",
      "5\n",
      "8\n",
      "13\n",
      "21\n",
      "34\n"
     ]
    }
   ],
   "source": [
    "# 41. Create a tuple of the first 5 Fibonacci numbers.\n",
    "\n",
    "nterms = int(input(\"How many terms? \"))\n",
    "\n",
    "# first two terms\n",
    "n1, n2 = 0, 1\n",
    "count = 0\n",
    "\n",
    "# check if the number of terms is valid\n",
    "if nterms <= 0:\n",
    "    print(\"Please enter a positive integer\")\n",
    "# if there is only one term, return n1\n",
    "elif nterms == 1:\n",
    "    print(\"Fibonacci sequence upto\",nterms,\":\")\n",
    "    print(n1)\n",
    "# generate fibonacci sequence\n",
    "else:\n",
    "    print(\"Fibonacci sequence:\")\n",
    "    while count < nterms:\n",
    "        print(n1)\n",
    "        nth = n1 + n2\n",
    "       # update values\n",
    "        n1 = n2\n",
    "        n2 = nth\n",
    "        count += 1\n",
    "# input: How many terms?  10"
   ]
  },
  {
   "cell_type": "code",
   "execution_count": 59,
   "id": "b1e806c0-6953-48f9-a5b4-37b3438ed69e",
   "metadata": {},
   "outputs": [
    {
     "name": "stdin",
     "output_type": "stream",
     "text": [
      "Enter tuple : 5\n"
     ]
    },
    {
     "name": "stdout",
     "output_type": "stream",
     "text": [
      "5\n"
     ]
    }
   ],
   "source": [
    "# 42. Create a tuple from user input.\n",
    "\n",
    "a=input (\"Enter tuple :\") \n",
    "print (a)\n"
   ]
  },
  {
   "cell_type": "code",
   "execution_count": 60,
   "id": "b1a60226-9789-4034-9fee-a30da2423cd2",
   "metadata": {},
   "outputs": [
    {
     "name": "stdout",
     "output_type": "stream",
     "text": [
      "The original list is : [(3, 4), (6, 5), (7, 8)]\n",
      "The swapped tuple list is : [(4, 3), (5, 6), (8, 7)]\n"
     ]
    }
   ],
   "source": [
    "# 43. Swap two elements in a tuple.\n",
    "\n",
    "test_list = [(3, 4), (6, 5), (7, 8)]\n",
    " \n",
    "# printing original list\n",
    "print(\"The original list is : \" + str(test_list))\n",
    " \n",
    "# Swap tuple elements in list of tuples\n",
    "# Using list comprehension\n",
    "res = [(sub[1], sub[0]) for sub in test_list]\n",
    "         \n",
    "# printing result\n",
    "print(\"The swapped tuple list is : \" + str(res))"
   ]
  },
  {
   "cell_type": "code",
   "execution_count": 61,
   "id": "fe8adadd-8453-42fb-8dbb-86a68a230019",
   "metadata": {},
   "outputs": [
    {
     "name": "stdout",
     "output_type": "stream",
     "text": [
      "('k', 'e', 'e', 'g', 'f', 'd', 'a', 'z')\n"
     ]
    }
   ],
   "source": [
    "# 44. Reverse the elements of a tuple.\n",
    "\n",
    "def Reverse(tuples):\n",
    "    new_tup = tuples[::-1]\n",
    "    return new_tup\n",
    "     \n",
    "# Driver Code\n",
    "tuples = ('z','a','d','f','g','e','e','k')\n",
    "print(Reverse(tuples))"
   ]
  },
  {
   "cell_type": "code",
   "execution_count": 62,
   "id": "47e009c9-d48c-4113-b4fb-62e5f063a75a",
   "metadata": {},
   "outputs": [
    {
     "name": "stdout",
     "output_type": "stream",
     "text": [
      "Enter the Total Number of Terms: \n"
     ]
    },
    {
     "name": "stdin",
     "output_type": "stream",
     "text": [
      " 5\n"
     ]
    },
    {
     "name": "stdout",
     "output_type": "stream",
     "text": [
      "2 raised to the power  0  is  1\n",
      "2 raised to the power  1  is  2\n",
      "2 raised to the power  2  is  4\n",
      "2 raised to the power  3  is  8\n",
      "2 raised to the power  4  is  16\n"
     ]
    }
   ],
   "source": [
    "# 45. Create a tuple of the first `n` powers of 2.\n",
    "\n",
    "print(\"Enter the Total Number of Terms: \")\n",
    "tot = int(input())\n",
    "\n",
    "for i in range(tot):\n",
    "    print(\"2 raised to the power \", i, \" is \", 2 ** i)\n"
   ]
  },
  {
   "cell_type": "code",
   "execution_count": 76,
   "id": "3895d0dd-987b-4843-8f5f-7f0b0613ce21",
   "metadata": {},
   "outputs": [
    {
     "name": "stdout",
     "output_type": "stream",
     "text": [
      "The original list : ['gfg', 'is', 'best', 'for', 'pwskillsssss']\n",
      "Maximum length string is : pwskillsssss\n"
     ]
    }
   ],
   "source": [
    "# 46. Find the longest string in a tuple of strings.\n",
    "\n",
    "def find_maximum(lst,start=0,max_word=''):\n",
    "  if start==len(lst):  #base condition\n",
    "    return max_word\n",
    "  if len(lst[start])>len(max_word):  \n",
    "    max_word=lst[start]\n",
    "  return find_maximum(lst,start+1,max_word)  #calling recursive function\n",
    " \n",
    "# initialize list \n",
    "test_list = ['gfg', 'is', 'best', 'for', 'pwskillsssss']\n",
    "   \n",
    "# printing original list \n",
    "print(\"The original list : \" + str(test_list))\n",
    "   \n",
    "# Longest String in list\n",
    "# using recursive function\n",
    "res = find_maximum(test_list)\n",
    "   \n",
    "# printing result\n",
    "print(\"Maximum length string is : \" + res)"
   ]
  },
  {
   "cell_type": "code",
   "execution_count": 77,
   "id": "374f7c72-8e79-4c5c-8ad6-9963210008de",
   "metadata": {},
   "outputs": [
    {
     "name": "stdout",
     "output_type": "stream",
     "text": [
      "The original list : ['gfg', 'is', 'best']\n",
      "Length of minimum string is : 2\n"
     ]
    }
   ],
   "source": [
    "# 47. Find the shortest string in a tuple of strings.\n",
    "\n",
    "test_list = ['gfg', 'is', 'best']\n",
    " \n",
    "# printing original list\n",
    "print(\"The original list : \" + str(test_list))\n",
    " \n",
    "# Minimum String length\n",
    "# using min() + generator expression\n",
    "res = min(len(ele) for ele in test_list)\n",
    " \n",
    "# printing result\n",
    "print(\"Length of minimum string is : \" + str(res))\n"
   ]
  },
  {
   "cell_type": "code",
   "execution_count": 78,
   "id": "f31c0b0f-dc8f-444c-94e9-c3efc5aa73e3",
   "metadata": {},
   "outputs": [
    {
     "name": "stdout",
     "output_type": "stream",
     "text": [
      "1 3 6 10 15 "
     ]
    }
   ],
   "source": [
    "# 48. Create a tuple of the first `n` triangular numbers.\n",
    "\n",
    "def triangular_series( n ):\n",
    "    j = 1\n",
    "    k = 1\n",
    "     \n",
    "    # For each iteration increase j \n",
    "    # by 1 and add it into k\n",
    "    for i in range(1, n + 1):\n",
    "        print(k, end = ' ')\n",
    "        j = j + 1 # Increasing j by 1\n",
    "         \n",
    "        # Add value of j into k and update k\n",
    "        k = k + j \n",
    "         \n",
    "# Driven Code\n",
    "n = 5\n",
    "triangular_series(n)"
   ]
  },
  {
   "cell_type": "code",
   "execution_count": 79,
   "id": "94f3ef1d-5e84-4438-af3e-1cbce1fdfa8b",
   "metadata": {},
   "outputs": [
    {
     "name": "stdout",
     "output_type": "stream",
     "text": [
      "['yes']\n"
     ]
    }
   ],
   "source": [
    "# 49. Check if a tuple contains another tuple as a subsequence.\n",
    "\n",
    "test_tup1 = (10, 4, 5, 6)\n",
    "test_tup2 = (5, 10) \n",
    "x=[j for a,i in enumerate(test_tup1) for j in test_tup2] \n",
    "print([\"yes\" if x else \"no\"])"
   ]
  },
  {
   "cell_type": "code",
   "execution_count": 81,
   "id": "81d318b4-5a6a-4390-b5b4-6ea2fffd1dee",
   "metadata": {},
   "outputs": [
    {
     "name": "stdout",
     "output_type": "stream",
     "text": [
      "The original tuple : (5, 6, 3, 6, 10, 34)\n",
      "The alternate chain sum 1 : 46\n",
      "The alternate chain sum 2 : 18\n"
     ]
    }
   ],
   "source": [
    "# 50. Create a tuple of alternating 1s and 0s of length `n`.\n",
    "\n",
    "test_tuple = (5, 6, 3, 6, 10, 34)\n",
    " \n",
    "# printing original tuple\n",
    "print(\"The original tuple : \" + str(test_tuple))\n",
    " \n",
    "# Alternate Elements operation on Tuple\n",
    "# Using loop + enumerate()\n",
    "sum1 = 0\n",
    "sum2 = 0\n",
    "for idx, ele in enumerate(test_tuple):\n",
    "    if idx % 2:\n",
    "        sum1 += ele\n",
    "    else:\n",
    "        sum2 += ele\n",
    "print(\"The alternate chain sum 1 : \" + str(sum1))\n",
    "print(\"The alternate chain sum 2 : \" + str(sum2))"
   ]
  },
  {
   "cell_type": "code",
   "execution_count": null,
   "id": "6f82d245-a39d-4c5b-8f22-1d04a3bc15f2",
   "metadata": {},
   "outputs": [],
   "source": []
  },
  {
   "cell_type": "code",
   "execution_count": null,
   "id": "31f5e9ae-3bc0-4a8c-995c-fd9d167b02b4",
   "metadata": {},
   "outputs": [],
   "source": []
  },
  {
   "cell_type": "code",
   "execution_count": 82,
   "id": "b705b024-d4d9-4844-9481-c7aadf9bca70",
   "metadata": {},
   "outputs": [],
   "source": [
    "# Set Based Practice Problems"
   ]
  },
  {
   "cell_type": "code",
   "execution_count": null,
   "id": "af3f55b1-e5d2-4a8d-90ad-9b149c8f957f",
   "metadata": {},
   "outputs": [],
   "source": []
  },
  {
   "cell_type": "code",
   "execution_count": 83,
   "id": "9d4d5ea0-c456-4b9f-961c-18f15197a628",
   "metadata": {},
   "outputs": [
    {
     "name": "stdout",
     "output_type": "stream",
     "text": [
      "Student ID: {112, 114, 115, 116, 118}\n"
     ]
    }
   ],
   "source": [
    "# 1. Create a set with integers from 1 to 5.\n",
    "\n",
    "student_id = {112, 114, 116, 118, 115}\n",
    "print('Student ID:', student_id)"
   ]
  },
  {
   "cell_type": "code",
   "execution_count": 86,
   "id": "32320598-37a6-4ca2-9811-a6fb9356f8df",
   "metadata": {},
   "outputs": [
    {
     "name": "stdout",
     "output_type": "stream",
     "text": [
      "{1, 2, 3, '4,5,6'}\n"
     ]
    }
   ],
   "source": [
    "# 2. Add an element to a set.\n",
    "\n",
    "set1 = {1,2,3}\n",
    "set1.add('4,5,6')\n",
    "\n",
    "print(set1)\n"
   ]
  },
  {
   "cell_type": "code",
   "execution_count": 89,
   "id": "5e1ec595-0b22-460d-b6fc-35ceed2397e1",
   "metadata": {},
   "outputs": [
    {
     "name": "stdout",
     "output_type": "stream",
     "text": [
      "{1, 3}\n"
     ]
    }
   ],
   "source": [
    "# 3. Remove an element from a set.\n",
    "\n",
    "set1 = {1,2,3}\n",
    "set1.remove(2)\n",
    "print (set1)"
   ]
  },
  {
   "cell_type": "code",
   "execution_count": 90,
   "id": "08b46216-dc15-4b04-a424-de2dc6d5cdf5",
   "metadata": {},
   "outputs": [
    {
     "name": "stdout",
     "output_type": "stream",
     "text": [
      "yes\n"
     ]
    }
   ],
   "source": [
    "# 4. Check if an element exists in a set.\n",
    "\n",
    "set1 = {1,2,3}\n",
    "if 2 in set1:\n",
    "    print(\"yes\")"
   ]
  },
  {
   "cell_type": "code",
   "execution_count": 12,
   "id": "2d9b015b-ebcc-40a1-8fd0-f81748893fb4",
   "metadata": {},
   "outputs": [
    {
     "name": "stdin",
     "output_type": "stream",
     "text": [
      "Enter the string:  welcome to pwskills\n"
     ]
    },
    {
     "name": "stdout",
     "output_type": "stream",
     "text": [
      "The length of the  welcome to pwskills  string is:  19\n"
     ]
    }
   ],
   "source": [
    "# 5. Find the length of a set without using the `len()` function.\n",
    "\n",
    "def main():\n",
    "    example = str(input(\"Enter the string: \"))\n",
    "    print(\"The length of the \", example, \" string is: \", string(example))\n",
    "    \n",
    "def string(length):\n",
    "    if length=='':\n",
    "        return 0\n",
    "    else:\n",
    "        return 1+string(length[1:])\n",
    "        \n",
    "main()"
   ]
  },
  {
   "cell_type": "code",
   "execution_count": 14,
   "id": "11ef6997-a8be-4541-b301-26dd3463bf38",
   "metadata": {},
   "outputs": [
    {
     "name": "stdout",
     "output_type": "stream",
     "text": [
      "set()\n"
     ]
    }
   ],
   "source": [
    "# 6. Clear all elements from a set.\n",
    "\n",
    "set1 = {\"ram\", \"sam\"}\n",
    "set1.clear()\n",
    "print(set1)"
   ]
  },
  {
   "cell_type": "code",
   "execution_count": 16,
   "id": "a076d929-e4ef-4ac2-8718-2d35d4833d49",
   "metadata": {},
   "outputs": [
    {
     "name": "stdout",
     "output_type": "stream",
     "text": [
      "Prime numbers between 1 and 10 are:\n",
      "2\n",
      "3\n",
      "5\n",
      "7\n"
     ]
    }
   ],
   "source": [
    "# 7. Create a set of even numbers from 1 to 10.\n",
    "\n",
    "lower = 1\n",
    "upper = 10\n",
    "\n",
    "print(\"Prime numbers between\", lower, \"and\", upper, \"are:\")\n",
    "\n",
    "for num in range(lower, upper + 1):\n",
    "   # all prime numbers are greater than 1\n",
    "   if num > 1:\n",
    "        for i in range(2, num):\n",
    "            if (num % i) == 0:\n",
    "                break\n",
    "        else:\n",
    "            print(num)"
   ]
  },
  {
   "cell_type": "code",
   "execution_count": 22,
   "id": "41a2fd12-662c-477a-ba37-49f737efd37e",
   "metadata": {},
   "outputs": [
    {
     "name": "stdout",
     "output_type": "stream",
     "text": [
      "5 7 9 11 13 15 17 19 "
     ]
    }
   ],
   "source": [
    "# 8. Create a set of odd numbers from 1 to 10.\n",
    "\n",
    "start, end = (4, 19)\n",
    "for num in range(start, end + 1):\n",
    "    if num % 2 != 0:\n",
    "        print(num, end = \" \")"
   ]
  },
  {
   "cell_type": "code",
   "execution_count": 23,
   "id": "f229d636-333f-4567-89d2-aa0235a78bbb",
   "metadata": {},
   "outputs": [
    {
     "name": "stdout",
     "output_type": "stream",
     "text": [
      "A U B: {2, 4, 5, 6, 7, 8}\n"
     ]
    }
   ],
   "source": [
    "# 9. Find the union of two sets.\n",
    "\n",
    "A = {2, 4, 5, 6} \n",
    "B = {4, 6, 7, 8}\n",
    " \n",
    "print(\"A U B:\", A.union(B))"
   ]
  },
  {
   "cell_type": "code",
   "execution_count": 24,
   "id": "e65db98f-556f-400d-9a12-5806c2b777a5",
   "metadata": {},
   "outputs": [
    {
     "name": "stdout",
     "output_type": "stream",
     "text": [
      "{3, 5}\n"
     ]
    }
   ],
   "source": [
    "# 10. Find the intersection of two sets.\n",
    "A = {2, 3, 5}\n",
    "B = {1, 3, 5}\n",
    "\n",
    "print(A.intersection(B))\n"
   ]
  },
  {
   "cell_type": "code",
   "execution_count": 27,
   "id": "604313ae-a0a9-4406-a80d-db3c4a364063",
   "metadata": {},
   "outputs": [
    {
     "name": "stdout",
     "output_type": "stream",
     "text": [
      "{10, 20}\n",
      "{100, 60}\n"
     ]
    }
   ],
   "source": [
    "# 11. Find the difference between two sets.\n",
    "\n",
    "A = {10, 20, 30, 40, 80}\n",
    "B = {100, 30, 80, 40, 60}\n",
    "print (A.difference(B))\n",
    "print (B.difference(A))"
   ]
  },
  {
   "cell_type": "code",
   "execution_count": 28,
   "id": "149e4c7d-bcd1-4db1-a756-a36916eaae24",
   "metadata": {},
   "outputs": [
    {
     "name": "stdout",
     "output_type": "stream",
     "text": [
      "True\n"
     ]
    }
   ],
   "source": [
    "# 12. Check if a set is a subset of another set.\n",
    "\n",
    "A = {1, 2, 3}\n",
    "B = {1, 2, 3, 4, 5}\n",
    "\n",
    "# all items of A are present in B\n",
    "print(A.issubset(B))"
   ]
  },
  {
   "cell_type": "code",
   "execution_count": 29,
   "id": "2276a203-6ebc-4624-9ddb-32385ef5b587",
   "metadata": {},
   "outputs": [
    {
     "name": "stdout",
     "output_type": "stream",
     "text": [
      "Original set:  {50, 20, 40, 10, 30}\n",
      "If nums is superset of itself?\n",
      "True\n"
     ]
    }
   ],
   "source": [
    "# 13. Check if a set is a superset of another set.\n",
    "\n",
    "nums = {10,20,30,40,50}\n",
    "print(\"Original set: \",nums)\n",
    "print(\"If nums is superset of itself?\")\n",
    "print(nums.issuperset(nums))"
   ]
  },
  {
   "cell_type": "code",
   "execution_count": 30,
   "id": "52401fb7-35a5-4ebd-885c-32ad380434d3",
   "metadata": {},
   "outputs": [
    {
     "name": "stdout",
     "output_type": "stream",
     "text": [
      "Updated set after adding elements:  {1, 2, 3, 4, 5, 6, 7, 8}\n"
     ]
    }
   ],
   "source": [
    "# 14. Create a set from a list.\n",
    "\n",
    "set1 = {1, 2, 3, 4, 5}\n",
    "list_to_add = [6, 7, 8]\n",
    "set1.update(list_to_add)\n",
    "print('Updated set after adding elements: ', set1)"
   ]
  },
  {
   "cell_type": "code",
   "execution_count": 33,
   "id": "94ece946-87c4-42a1-9a86-e84bfa07d680",
   "metadata": {},
   "outputs": [
    {
     "name": "stdout",
     "output_type": "stream",
     "text": [
      "{'ram', 'sam'}\n"
     ]
    }
   ],
   "source": [
    "# 15. Convert a set to a list.\n",
    "\n",
    "set2=set({\"ram\" , \"sam\"})\n",
    "print(set2)\n"
   ]
  },
  {
   "cell_type": "code",
   "execution_count": 34,
   "id": "7dbf8fc4-bad0-488b-b981-c81b40f7274a",
   "metadata": {},
   "outputs": [
    {
     "name": "stdout",
     "output_type": "stream",
     "text": [
      "{2, 3, 4, 5}\n"
     ]
    }
   ],
   "source": [
    "# 16. Remove a random element from a set.\n",
    "\n",
    "set1 = {1, 2, 3, 4, 5}\n",
    "set1.remove (1)\n",
    "print(set1)"
   ]
  },
  {
   "cell_type": "code",
   "execution_count": 38,
   "id": "d3b09353-cae0-451a-ad03-f2a8271ca854",
   "metadata": {},
   "outputs": [
    {
     "name": "stdout",
     "output_type": "stream",
     "text": [
      "{2, 3, 4, 5}\n"
     ]
    }
   ],
   "source": [
    "# 17. Pop an element from a set.\n",
    "\n",
    "set3 = {1, 2, 3, 4, 5}\n",
    "set3.pop ()\n",
    "print(set3)"
   ]
  },
  {
   "cell_type": "code",
   "execution_count": 39,
   "id": "dfe1c6f7-5e5d-4b1a-865a-00d9c7a130ac",
   "metadata": {},
   "outputs": [
    {
     "name": "stdout",
     "output_type": "stream",
     "text": [
      "True\n"
     ]
    }
   ],
   "source": [
    "# 18. Check if two sets have no elements in common.\n",
    "\n",
    "set1 = {1, 2, 3, 4, 5}\n",
    "set2 = {6, 7, 8}\n",
    "\n",
    "print(set1.isdisjoint(set2))"
   ]
  },
  {
   "cell_type": "code",
   "execution_count": 40,
   "id": "852f2f2b-af0b-4588-9cf0-73a1f474dfc2",
   "metadata": {},
   "outputs": [
    {
     "name": "stdout",
     "output_type": "stream",
     "text": [
      "{1, 2, 5, 6, 7, 9}\n"
     ]
    }
   ],
   "source": [
    "# 19. Find the symmetric difference between two sets.\n",
    "\n",
    "set_A = {1, 2, 3, 4, 5}\n",
    "set_B = {6, 7, 3, 9, 4}\n",
    "print(set_A.symmetric_difference(set_B))"
   ]
  },
  {
   "cell_type": "code",
   "execution_count": 41,
   "id": "a2d16159-59e0-469d-86ee-3dc8e6236f26",
   "metadata": {},
   "outputs": [
    {
     "name": "stdout",
     "output_type": "stream",
     "text": [
      "Set 1: {1, 2, 3}\n",
      "Set 2: {3, 4, 5}\n",
      "Updated Set 1: {1, 2, 3, 4, 5}\n"
     ]
    }
   ],
   "source": [
    "#20. Update a set with elements from another set.\n",
    "\n",
    "# Create the first set\n",
    "set1 = {1, 2, 3}\n",
    "print(\"Set 1:\", set1)\n",
    "\n",
    "# Create the second set\n",
    "set2 = {3, 4, 5}\n",
    "print(\"Set 2:\", set2)\n",
    "\n",
    "# Update set1 with elements from set2\n",
    "set1.update(set2)\n",
    "print(\"Updated Set 1:\", set1)"
   ]
  },
  {
   "cell_type": "code",
   "execution_count": null,
   "id": "237c24bb-802b-4b54-a3d2-91f0fa01aea3",
   "metadata": {},
   "outputs": [
    {
     "name": "stdout",
     "output_type": "stream",
     "text": [
      "Set of the first 5 prime numbers: {2}\n",
      "Set of the first 5 prime numbers: {2, 3}\n"
     ]
    }
   ],
   "source": [
    "# 21. Create a set of the first 5 prime numbers.\n",
    "\n",
    "def is_prime(num):\n",
    "    if num <= 1:\n",
    "        return False\n",
    "    for i in range(2, int(num ** 0.5) + 1):\n",
    "        if num % i == 0:\n",
    "            return False\n",
    "    return True\n",
    "prime_set = set()\n",
    "num = 2\n",
    "while len(prime_set) < 5:\n",
    "    # Check if the current number is prime using the is_prime function\n",
    "    if is_prime(num):\n",
    "        # If the number is prime, add it to the prime_set\n",
    "        prime_set.add(num)\n",
    "        num += 1\n",
    "        print(\"Set of the first 5 prime numbers:\", prime_set)"
   ]
  },
  {
   "cell_type": "code",
   "execution_count": 3,
   "id": "943c6396-b202-40c2-a44c-1d663cdb2f4d",
   "metadata": {},
   "outputs": [
    {
     "name": "stdout",
     "output_type": "stream",
     "text": [
      "The sets are identical.\n"
     ]
    }
   ],
   "source": [
    "# 22. Check if two sets are identical.\n",
    "\n",
    "set10 = {1, 2, 3, 4, 5}\n",
    "set20 = {3, 1, 5, 2, 4}\n",
    "if set10 == set20:\n",
    "    print(\"The sets are identical.\")\n",
    "else:\n",
    "    print(\"The sets are not identical.\")"
   ]
  },
  {
   "cell_type": "code",
   "execution_count": 4,
   "id": "43ff0fa3-b3ae-4db0-b86d-42d77809c22d",
   "metadata": {},
   "outputs": [
    {
     "name": "stdout",
     "output_type": "stream",
     "text": [
      "Frozen Set: frozenset({1, 2, 3, 4, 5})\n"
     ]
    }
   ],
   "source": [
    "# 23. Create a frozen set\n",
    "\n",
    "elements = [1, 2, 3, 4, 5]\n",
    "my_frozen_set = frozenset(elements)\n",
    "print(\"Frozen Set:\", my_frozen_set)"
   ]
  },
  {
   "cell_type": "code",
   "execution_count": 5,
   "id": "42859d98-db5a-468e-9545-7516f9505023",
   "metadata": {},
   "outputs": [
    {
     "name": "stdout",
     "output_type": "stream",
     "text": [
      "Are the sets disjoint? True\n"
     ]
    }
   ],
   "source": [
    "# 24. Check if a set is disjoint with another set.\n",
    "set1 = {1, 2, 3, 4}\n",
    "set2 = {5, 6, 7, 8}\n",
    "disjoint_status = set1.isdisjoint(set2)\n",
    "print(\"Are the sets disjoint?\", disjoint_status)\n"
   ]
  },
  {
   "cell_type": "code",
   "execution_count": 7,
   "id": "469a04e0-878d-475e-aca7-3b345fb6f5ce",
   "metadata": {},
   "outputs": [
    {
     "name": "stdout",
     "output_type": "stream",
     "text": [
      "{1, 4, 9, 16, 25}\n"
     ]
    }
   ],
   "source": [
    "# 25. Create a set of squares of numbers from 1 to 5.\n",
    "\n",
    "squares_set = set()\n",
    "\n",
    "# Step 2: Use a loop to iterate through numbers from 1 to 5\n",
    "for num in range(1, 6):\n",
    "    square = num ** 2\n",
    "    squares_set.add(square)\n",
    "print(squares_set)"
   ]
  },
  {
   "cell_type": "code",
   "execution_count": 9,
   "id": "3daeea54-f5a4-40e5-b16f-a225a4c19d96",
   "metadata": {},
   "outputs": [
    {
     "name": "stdout",
     "output_type": "stream",
     "text": [
      "Original Set: {1, 2, 3, 4, 5}\n",
      "Even Numbers Set: {2, 4}\n"
     ]
    }
   ],
   "source": [
    "# 26. Filter out all even numbers from a set.\n",
    "\n",
    "original_set = {1, 2, 3, 4, 5}\n",
    "even_numbers_set = set()\n",
    "for num in original_set:\n",
    "    if num % 2 == 0:\n",
    "        even_numbers_set.add(num)\n",
    "\n",
    "print(\"Original Set:\", original_set)\n",
    "print(\"Even Numbers Set:\", even_numbers_set)"
   ]
  },
  {
   "cell_type": "code",
   "execution_count": 10,
   "id": "82342dae-e5f2-4840-bb28-ede76eeb0a25",
   "metadata": {},
   "outputs": [
    {
     "name": "stdout",
     "output_type": "stream",
     "text": [
      "Original Set: {1, 2, 3, 4, 5}\n",
      "Multiplied Set: {2, 4, 6, 8, 10}\n"
     ]
    }
   ],
   "source": [
    "# 27. Multiply all elements in a set by 2.\n",
    "\n",
    "original_set = {1, 2, 3, 4, 5}\n",
    "multiplied_set = set()\n",
    "for num in original_set: \n",
    "    multiplied_num = num * 2\n",
    "    multiplied_set.add(multiplied_num)\n",
    "print(\"Original Set:\", original_set)\n",
    "print(\"Multiplied Set:\", multiplied_set)"
   ]
  },
  {
   "cell_type": "code",
   "execution_count": 12,
   "id": "30937dfb-639d-46bb-85c0-2ca2a788680f",
   "metadata": {},
   "outputs": [
    {
     "name": "stdout",
     "output_type": "stream",
     "text": [
      "Generated set of random numbers: {65, 67, 12, 86, 58}\n"
     ]
    }
   ],
   "source": [
    "# 28. Create a set of random numbers.\n",
    "\n",
    "import random\n",
    "num_random_numbers = 5\n",
    "random_number_set = set()\n",
    "for _ in range(num_random_numbers):\n",
    "    random_num = random.randint(1, 100)  \n",
    "    # Add the random number to the set\n",
    "    random_number_set.add(random_num)\n",
    "print(\"Generated set of random numbers:\", random_number_set)"
   ]
  },
  {
   "cell_type": "code",
   "execution_count": 13,
   "id": "868bc763-b068-4ab8-91c1-5afb8bcdb230",
   "metadata": {},
   "outputs": [
    {
     "name": "stdout",
     "output_type": "stream",
     "text": [
      "The set is empty.\n"
     ]
    }
   ],
   "source": [
    "# 29. Check if a set is empty.\n",
    "\n",
    "my_set = set()\n",
    "\n",
    "# Step 2: Check if the set is empty using the 'if' statement\n",
    "if not my_set:\n",
    "    print(\"The set is empty.\")\n",
    "else:\n",
    "    print(\"The set is not empty.\")"
   ]
  },
  {
   "cell_type": "code",
   "execution_count": 14,
   "id": "e728fd89-6b62-4b8e-9f7b-41581fa1efe4",
   "metadata": {},
   "outputs": [
    {
     "name": "stdout",
     "output_type": "stream",
     "text": [
      "Nested Set: {frozenset({1, 2, 3, 4, 5}), frozenset({6, 7, 8, 9, 10})}\n"
     ]
    }
   ],
   "source": [
    "# 30. Create a nested set (hint: use frozenset).\n",
    "\n",
    "# Step 1: Create the inner sets\n",
    "set1 = {1, 2, 3, 4, 5}\n",
    "set2 = {6, 7, 8, 9, 10}\n",
    "\n",
    "# Step 2: Create frozensets from the inner sets\n",
    "frozen_set1 = frozenset(set1)\n",
    "frozen_set2 = frozenset(set2)\n",
    "\n",
    "# Step 3: Create the nested set using the frozensets\n",
    "nested_set = {frozen_set1, frozen_set2}\n",
    "\n",
    "# Print the nested set\n",
    "print(\"Nested Set:\", nested_set)"
   ]
  },
  {
   "cell_type": "code",
   "execution_count": 15,
   "id": "d93ecd43-9763-4a90-ba40-d256b02a5bca",
   "metadata": {},
   "outputs": [
    {
     "name": "stdout",
     "output_type": "stream",
     "text": [
      "Initial set: {1, 2, 3, 4, 5}\n",
      "Set after removing 3 : {1, 2, 4, 5}\n"
     ]
    }
   ],
   "source": [
    "# 31. Remove an element from a set using the discard method.\n",
    "\n",
    "my_set = {1, 2, 3, 4, 5}\n",
    "\n",
    "# Display the initial set\n",
    "print(\"Initial set:\", my_set)\n",
    "\n",
    "# Define the element to be removed\n",
    "element_to_remove = 3\n",
    "\n",
    "# Use the discard() method to remove the element from the set\n",
    "# If the element is not present in the set, discard() won't raise an error\n",
    "my_set.discard(element_to_remove)\n",
    "\n",
    "# Display the set after removing the element\n",
    "print(\"Set after removing\", element_to_remove, \":\", my_set)"
   ]
  },
  {
   "cell_type": "code",
   "execution_count": 16,
   "id": "568fb8c8-a254-44df-bd36-6c70bd2bd541",
   "metadata": {},
   "outputs": [
    {
     "name": "stdout",
     "output_type": "stream",
     "text": [
      "Set 1: {1, 2, 3, 4, 5}\n",
      "Set 2: {4, 5, 6, 7, 8}\n",
      "Is set1 a subset of set2? False\n",
      "Is set2 a subset of set1? False\n",
      "Intersection: {4, 5}\n",
      "Union: {1, 2, 3, 4, 5, 6, 7, 8}\n",
      "Elements in set1 but not in set2: {1, 2, 3}\n",
      "Elements in set2 but not in set1: {8, 6, 7}\n"
     ]
    }
   ],
   "source": [
    "# 32. Compare two sets.\n",
    "\n",
    "set1 = {1, 2, 3, 4, 5}\n",
    "set2 = {4, 5, 6, 7, 8}\n",
    "\n",
    "# Step 2: Use set operations to compare the sets\n",
    "# Check if set1 is a subset of set2\n",
    "is_subset = set1.issubset(set2)\n",
    "\n",
    "# Check if set2 is a subset of set1\n",
    "is_superset = set1.issuperset(set2)\n",
    "\n",
    "# Find the intersection of the sets\n",
    "intersection = set1.intersection(set2)\n",
    "\n",
    "# Find the union of the sets\n",
    "union = set1.union(set2)\n",
    "\n",
    "# Find the elements that are in set1 but not in set2\n",
    "difference1 = set1.difference(set2)\n",
    "\n",
    "# Find the elements that are in set2 but not in set1\n",
    "difference2 = set2.difference(set1)\n",
    "\n",
    "# Step 3: Print the results\n",
    "print(\"Set 1:\", set1)\n",
    "print(\"Set 2:\", set2)\n",
    "print(\"Is set1 a subset of set2?\", is_subset)\n",
    "print(\"Is set2 a subset of set1?\", is_superset)\n",
    "print(\"Intersection:\", intersection)\n",
    "print(\"Union:\", union)\n",
    "print(\"Elements in set1 but not in set2:\", difference1)\n",
    "print(\"Elements in set2 but not in set1:\", difference2)"
   ]
  },
  {
   "cell_type": "code",
   "execution_count": 17,
   "id": "b0bccdd9-e193-4d86-880f-77d4b95ff527",
   "metadata": {},
   "outputs": [
    {
     "name": "stdout",
     "output_type": "stream",
     "text": [
      "{'o', 'e', 'h', 'l'}\n"
     ]
    }
   ],
   "source": [
    "# 33. Create a set from a string.\n",
    "\n",
    "input_string = \"hello\"\n",
    "\n",
    "# Step 2: Use the set() constructor to create a set from the characters in the string\n",
    "char_set = set(input_string)\n",
    "\n",
    "# Step 3: Print the resulting set\n",
    "print(char_set)"
   ]
  },
  {
   "cell_type": "code",
   "execution_count": 18,
   "id": "50a37786-1701-4a3b-b31a-ce7ca28b7497",
   "metadata": {},
   "outputs": [
    {
     "name": "stdout",
     "output_type": "stream",
     "text": [
      "Original String Set: {'456', '123', '789'}\n",
      "Converted Integer Set: {456, 123, 789}\n"
     ]
    }
   ],
   "source": [
    "# 34. Convert a set of strings to a set of integers.\n",
    "\n",
    "string_set = {\"123\", \"456\", \"789\"}\n",
    "\n",
    "# Step 2: Initialize an empty set to store integers\n",
    "integer_set = set()\n",
    "\n",
    "# Step 3: Iterate through each string in the string set\n",
    "for string in string_set:\n",
    "    # Step 4: Convert the string to an integer using the int() function\n",
    "    integer_value = int(string)\n",
    "\n",
    "    # Step 5: Add the integer to the integer set\n",
    "    integer_set.add(integer_value)\n",
    "\n",
    "# Step 6: Print the original string set and the converted integer set\n",
    "print(\"Original String Set:\", string_set)\n",
    "print(\"Converted Integer Set:\", integer_set)"
   ]
  },
  {
   "cell_type": "code",
   "execution_count": 19,
   "id": "5b3e746f-f80d-475e-885b-b62d1b92fb5a",
   "metadata": {},
   "outputs": [
    {
     "name": "stdout",
     "output_type": "stream",
     "text": [
      "Original integers_set: {1, 2, 3, 4, 5}\n",
      "Converted strings_set: {'2', '5', '4', '1', '3'}\n"
     ]
    }
   ],
   "source": [
    "# 35. Convert a set of integers to a set of strings.\n",
    "\n",
    "integers_set = {1, 2, 3, 4, 5}\n",
    "\n",
    "# Step 2: Initialize an empty set to store the strings\n",
    "strings_set = set()\n",
    "\n",
    "# Step 3: Iterate through each integer in the integers_set\n",
    "for num in integers_set:\n",
    "    # Step 4: Convert the integer to a string using the str() function\n",
    "    num_str = str(num)\n",
    "\n",
    "    # Step 5: Add the string representation to the strings_set\n",
    "    strings_set.add(num_str)\n",
    "\n",
    "# Step 6: Print the original integers_set and the converted strings_set\n",
    "print(\"Original integers_set:\", integers_set)\n",
    "print(\"Converted strings_set:\", strings_set)"
   ]
  },
  {
   "cell_type": "code",
   "execution_count": 20,
   "id": "6ddda09c-4d0c-44a2-908b-e504fa33e292",
   "metadata": {},
   "outputs": [
    {
     "name": "stdout",
     "output_type": "stream",
     "text": [
      "{1, 2, 3, 4, 5}\n"
     ]
    }
   ],
   "source": [
    "# 36. Create a set from a tuple.\n",
    "\n",
    "input_tuple = (1, 2, 3, 2, 4, 5, 1)\n",
    "output_set = set(input_tuple)\n",
    "print(output_set)"
   ]
  },
  {
   "cell_type": "code",
   "execution_count": 22,
   "id": "8f30a8f4-c811-4fcd-b212-2eb4afe413cc",
   "metadata": {},
   "outputs": [
    {
     "name": "stdout",
     "output_type": "stream",
     "text": [
      "Original set: {1, 2, 3, 4, 5}\n",
      "Converted tuple: (1, 2, 3, 4, 5)\n"
     ]
    }
   ],
   "source": [
    "# 37. Convert a set to a tuple.\n",
    "\n",
    "input_set = {1, 2, 3, 4, 5}\n",
    "output_tuple = tuple(input_set)\n",
    "print(\"Original set:\", input_set)\n",
    "print(\"Converted tuple:\", output_tuple)"
   ]
  },
  {
   "cell_type": "code",
   "execution_count": 23,
   "id": "50561fb0-69d8-46d2-83f2-8d11cd5da474",
   "metadata": {},
   "outputs": [
    {
     "name": "stdout",
     "output_type": "stream",
     "text": [
      "Maximum value: 22\n"
     ]
    }
   ],
   "source": [
    "# 38. Find the maximum value in a set.\n",
    "\n",
    "my_set = {15, 7, 22, 13, 8}\n",
    "\n",
    "max_value = None\n",
    "for num in my_set:\n",
    "    if max_value is None or num > max_value:\n",
    "        max_value = num  \n",
    "print(\"Maximum value:\", max_value)"
   ]
  },
  {
   "cell_type": "code",
   "execution_count": 24,
   "id": "f4fe8f2a-43b2-4538-9b5a-95c32c16c706",
   "metadata": {},
   "outputs": [
    {
     "name": "stdout",
     "output_type": "stream",
     "text": [
      "The minimum value in the set is: 4\n"
     ]
    }
   ],
   "source": [
    "# 39. Find the minimum value in a set.\n",
    "\n",
    "number_set = {15, 8, 23, 4, 42, 11}\n",
    "min_value = None\n",
    "for num in number_set:\n",
    "    if min_value is None or num < min_value:\n",
    "        min_value = num\n",
    "print(\"The minimum value in the set is:\", min_value)"
   ]
  },
  {
   "cell_type": "code",
   "execution_count": 25,
   "id": "753105d6-4172-4b74-9c4d-49bac5c63075",
   "metadata": {},
   "outputs": [
    {
     "name": "stdout",
     "output_type": "stream",
     "text": [
      "Enter elements for the set (type 'done' to finish):\n"
     ]
    },
    {
     "name": "stdin",
     "output_type": "stream",
     "text": [
      ">  pwskills\n",
      ">  done\n"
     ]
    },
    {
     "name": "stdout",
     "output_type": "stream",
     "text": [
      "Final set: {'pwskills'}\n"
     ]
    }
   ],
   "source": [
    "# 40. Create a set from user input.\n",
    "\n",
    "user_set = set()\n",
    "print(\"Enter elements for the set (type 'done' to finish):\")\n",
    "while True:\n",
    "    user_input = input(\"> \")  \n",
    "\n",
    "    if user_input.lower() == 'done':\n",
    "        break \n",
    "    user_set.add(user_input)\n",
    "print(\"Final set:\", user_set)"
   ]
  },
  {
   "cell_type": "code",
   "execution_count": 26,
   "id": "16801544-e121-43bf-8065-94cc6ed4ef12",
   "metadata": {},
   "outputs": [
    {
     "name": "stdout",
     "output_type": "stream",
     "text": [
      "The intersection of the two sets is not empty.\n"
     ]
    }
   ],
   "source": [
    "# 41. Check if the intersection of two sets is empty.\n",
    "\n",
    "set1 = {1, 2, 3, 4, 5}\n",
    "set2 = {4, 5, 6, 7, 8}\n",
    "intersection_result = set1.intersection(set2)\n",
    "if not intersection_result:\n",
    "    print(\"The intersection of the two sets is empty.\")\n",
    "else:\n",
    "    print(\"The intersection of the two sets is not empty.\")"
   ]
  },
  {
   "cell_type": "code",
   "execution_count": 27,
   "id": "11f2a9d8-4f73-47ea-a463-24dc1a2a0eaa",
   "metadata": {},
   "outputs": [
    {
     "name": "stdout",
     "output_type": "stream",
     "text": [
      "Set of the first 5 Fibonacci numbers: {0, 1, 2, 3, 5}\n"
     ]
    }
   ],
   "source": [
    "# 42. Create a set of the first 5 Fibonacci numbers.\n",
    "\n",
    "fibonacci_set = set()\n",
    "\n",
    "# Initialize the first two Fibonacci numbers\n",
    "a, b = 0, 1\n",
    "\n",
    "# Loop to generate the first 5 Fibonacci numbers\n",
    "for _ in range(6):\n",
    "    # Add the current Fibonacci number to the set\n",
    "    fibonacci_set.add(a)\n",
    "\n",
    "    # Calculate the next Fibonacci number\n",
    "    a, b = b, a + b\n",
    "\n",
    "# Print the set of Fibonacci numbers\n",
    "print(\"Set of the first 5 Fibonacci numbers:\", fibonacci_set)"
   ]
  },
  {
   "cell_type": "code",
   "execution_count": 28,
   "id": "5d96b545-94e8-4811-9daa-04cdc037a4d0",
   "metadata": {},
   "outputs": [
    {
     "name": "stdout",
     "output_type": "stream",
     "text": [
      "Original List: [2, 4, 6, 8, 4, 10, 6, 12, 14, 8]\n",
      "List with Duplicates Removed: [2, 4, 6, 8, 10, 12, 14]\n"
     ]
    }
   ],
   "source": [
    "# 43. Remove duplicates from a list using sets.\n",
    "\n",
    "original_list = [2, 4, 6, 8, 4, 10, 6, 12, 14, 8]\n",
    "\n",
    "# Step 2: Convert the list to a set\n",
    "unique_set = set(original_list)\n",
    "# Now, 'unique_set' contains only unique elements from 'original_list'\n",
    "\n",
    "# Step 3: Convert the set back to a list\n",
    "unique_list = list(unique_set)\n",
    "# Now, 'unique_list' is a list containing only unique elements\n",
    "\n",
    "# Step 4: Print the original list and the list with duplicates removed\n",
    "print(\"Original List:\", original_list)\n",
    "print(\"List with Duplicates Removed:\", unique_list)"
   ]
  },
  {
   "cell_type": "code",
   "execution_count": 29,
   "id": "3ea18847-348e-4489-94ce-74956f8eeb23",
   "metadata": {},
   "outputs": [
    {
     "name": "stdout",
     "output_type": "stream",
     "text": [
      "The sets have the same elements.\n"
     ]
    }
   ],
   "source": [
    "# 44. Check if two sets have the same elements, regardless of their count.\n",
    "\n",
    "def have_same_elements(set1, set2):\n",
    "    # Convert the sets to lists and sort them\n",
    "    sorted_list1 = sorted(list(set1))\n",
    "    sorted_list2 = sorted(list(set2))\n",
    "\n",
    "    # Compare the sorted lists to check if they are equal\n",
    "    return sorted_list1 == sorted_list2\n",
    "\n",
    "# Example sets\n",
    "set1 = {1, 2, 3, 2, 1}\n",
    "set2 = {3, 1, 2}\n",
    "\n",
    "# Check if the sets have the same elements\n",
    "result = have_same_elements(set1, set2)\n",
    "\n",
    "# Print the result\n",
    "if result:\n",
    "    print(\"The sets have the same elements.\")\n",
    "else:\n",
    "    print(\"The sets do not have the same elements.\")"
   ]
  },
  {
   "cell_type": "code",
   "execution_count": 30,
   "id": "4f2094b6-9fed-4642-b77a-29ad3f6939fc",
   "metadata": {},
   "outputs": [
    {
     "name": "stdout",
     "output_type": "stream",
     "text": [
      "{1, 2, 4, 8, 16}\n"
     ]
    }
   ],
   "source": [
    "# 45. Create a set of the first n powers of 2\n",
    "\n",
    "def generate_powers_of_2(n):\n",
    "    # Initialize an empty set to store the powers of 2\n",
    "    powers_of_2 = set()\n",
    "\n",
    "    # Loop from 0 to n-1\n",
    "    for i in range(n):\n",
    "        # Calculate the current power of 2 using the exponentiation operator **\n",
    "        power = 2 ** i\n",
    "\n",
    "        # Add the current power of 2 to the set\n",
    "        powers_of_2.add(power)\n",
    "\n",
    "    # Return the set of powers of 2\n",
    "    return powers_of_2\n",
    "\n",
    "# Define the value of n\n",
    "n = 5\n",
    "\n",
    "# Call the function to generate the set of powers of 2\n",
    "powers_set = generate_powers_of_2(n)\n",
    "\n",
    "# Print the resulting set\n",
    "print(powers_set)"
   ]
  },
  {
   "cell_type": "code",
   "execution_count": 31,
   "id": "80614555-af4e-4896-afb8-a82b7f797522",
   "metadata": {},
   "outputs": [
    {
     "name": "stdout",
     "output_type": "stream",
     "text": [
      "Common elements: [7, 9, 12]\n"
     ]
    }
   ],
   "source": [
    "# 46. Find the common elements between a set and a list.\n",
    "\n",
    "my_set = {3, 7, 9, 12, 15}\n",
    "my_list = [7, 12, 5, 9]\n",
    "\n",
    "# Step 2: Convert the list to a set for efficient comparison\n",
    "list_to_set = set(my_list)\n",
    "\n",
    "# Step 3: Initialize an empty list to store common elements\n",
    "common_elements = []\n",
    "\n",
    "# Step 4: Iterate through the elements in the set\n",
    "for element in my_set:\n",
    "    # Step 5: Check if the element is present in the converted set (list_to_set)\n",
    "    if element in list_to_set:\n",
    "        # Step 6: If the element is present in both the set and the list, add it to the common_elements list\n",
    "        common_elements.append(element)\n",
    "\n",
    "# Step 7: Print the common elements\n",
    "print(\"Common elements:\", common_elements)"
   ]
  },
  {
   "cell_type": "code",
   "execution_count": 32,
   "id": "80f0c179-1fce-430f-83db-c3ace829f870",
   "metadata": {},
   "outputs": [
    {
     "name": "stdin",
     "output_type": "stream",
     "text": [
      "Enter the value of n:  5\n"
     ]
    },
    {
     "name": "stdout",
     "output_type": "stream",
     "text": [
      "The set of the first 5 triangular numbers is: {1, 3, 6, 10, 15}\n"
     ]
    }
   ],
   "source": [
    "# 47. Create a set of the first n triangular numbers.:\n",
    "\n",
    "def generate_triangular_numbers(n):\n",
    "    triangular_numbers = set()  # Create an empty set to store the triangular numbers\n",
    "    for i in range(1, n + 1):\n",
    "        triangular_number = i * (i + 1) // 2  # Calculate the ith triangular number using the formula\n",
    "        triangular_numbers.add(triangular_number)  # Add the calculated triangular number to the set\n",
    "    return triangular_numbers\n",
    "\n",
    "# Input the value of 'n'\n",
    "n = int(input(\"Enter the value of n: \"))\n",
    "\n",
    "# Call the function to generate the set of first 'n' triangular numbers\n",
    "triangular_set = generate_triangular_numbers(n)\n",
    "\n",
    "# Display the set of triangular numbers\n",
    "print(f\"The set of the first {n} triangular numbers is:\", triangular_set)"
   ]
  },
  {
   "cell_type": "code",
   "execution_count": 34,
   "id": "b2c8ec3f-7646-4d33-9c51-7b2a2dc31999",
   "metadata": {},
   "outputs": [
    {
     "name": "stdout",
     "output_type": "stream",
     "text": [
      "set2 is a subset of set1\n"
     ]
    }
   ],
   "source": [
    "# 48. Check if a set contains another set as a subset.¶\n",
    "\n",
    "set1 = {1, 2, 3, 4, 5}\n",
    "set2 = {3, 4}\n",
    "is_subset = set2.issubset(set1)\n",
    "if is_subset:\n",
    "    print(\"set2 is a subset of set1\")\n",
    "else:\n",
    "    print(\"set2 is not a subset of set1\")"
   ]
  },
  {
   "cell_type": "code",
   "execution_count": 36,
   "id": "81761c31-4e0e-499e-9b95-acb273bbd99a",
   "metadata": {},
   "outputs": [
    {
     "name": "stdout",
     "output_type": "stream",
     "text": [
      "{0, 1}\n"
     ]
    }
   ],
   "source": [
    "# 49. Create a set of alternating 1s and 0s of length n.\n",
    "\n",
    "def create_alternating_set(n):\n",
    "    # Initialize an empty set to store the alternating sequence.\n",
    "    alternating_set = set()\n",
    "\n",
    "    # Loop to generate alternating 1s and 0s.\n",
    "    for i in range(n):\n",
    "        # Alternate between adding 1 and 0 to the set based on whether i is even or odd.\n",
    "        if i % 2 == 0:\n",
    "            alternating_set.add(1)  # Add 1 if i is even.\n",
    "        else:\n",
    "            alternating_set.add(0)  # Add 0 if i is odd.\n",
    "\n",
    "    return alternating_set\n",
    "\n",
    "# Define the desired length of the alternating set.\n",
    "length_n = 10\n",
    "\n",
    "# Call the function to create the alternating set of length 'length_n'.\n",
    "result = create_alternating_set(length_n)\n",
    "\n",
    "# Print the resulting set.\n",
    "print(result)"
   ]
  },
  {
   "cell_type": "code",
   "execution_count": 37,
   "id": "bb88675e-0d89-4a91-aea7-32b9e7e2fd9c",
   "metadata": {},
   "outputs": [
    {
     "name": "stdout",
     "output_type": "stream",
     "text": [
      "Merged Set: {1, 2, 3, 4, 5, 6, 7}\n"
     ]
    }
   ],
   "source": [
    "# 50. Merge multiple sets into one.\n",
    "\n",
    "set1 = {1, 2, 3}\n",
    "set2 = {3, 4, 5}\n",
    "set3 = {5, 6, 7}\n",
    "merged_set = set1.union(set2, set3)\n",
    "\n",
    "print(\"Merged Set:\", merged_set)"
   ]
  },
  {
   "cell_type": "code",
   "execution_count": null,
   "id": "d06eebd1-1b92-4d48-b760-e5d2d34ecd5e",
   "metadata": {},
   "outputs": [],
   "source": []
  }
 ],
 "metadata": {
  "kernelspec": {
   "display_name": "Python 3 (ipykernel)",
   "language": "python",
   "name": "python3"
  },
  "language_info": {
   "codemirror_mode": {
    "name": "ipython",
    "version": 3
   },
   "file_extension": ".py",
   "mimetype": "text/x-python",
   "name": "python",
   "nbconvert_exporter": "python",
   "pygments_lexer": "ipython3",
   "version": "3.10.8"
  }
 },
 "nbformat": 4,
 "nbformat_minor": 5
}
